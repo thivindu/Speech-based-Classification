{
 "cells": [
  {
   "cell_type": "markdown",
   "metadata": {
    "id": "S0PWRgNdKdIs"
   },
   "source": [
    "# **Layer 12**"
   ]
  },
  {
   "cell_type": "markdown",
   "metadata": {
    "id": "RwJuAeaLKwn6"
   },
   "source": [
    "## **Prepare Environment**"
   ]
  },
  {
   "cell_type": "markdown",
   "metadata": {
    "id": "0Sswa4lVLt61"
   },
   "source": [
    "### Import libraries and modules\n",
    "\n"
   ]
  },
  {
   "cell_type": "code",
   "execution_count": 1,
   "metadata": {
    "ExecuteTime": {
     "end_time": "2023-09-22T13:45:32.614056600Z",
     "start_time": "2023-09-22T13:45:32.567137800Z"
    },
    "id": "Z6RZkkxdLmww"
   },
   "outputs": [],
   "source": [
    "import numpy as np\n",
    "import pandas as pd\n",
    "import matplotlib.pyplot as plt\n",
    "import seaborn as sns\n",
    "import joblib\n",
    "import os\n",
    "\n",
    "from sklearn.preprocessing import StandardScaler, RobustScaler\n",
    "from sklearn.decomposition import PCA\n",
    "\n",
    "from sklearn.ensemble import IsolationForest\n",
    "from sklearn.covariance import EllipticEnvelope\n",
    "from sklearn.neighbors import LocalOutlierFactor\n",
    "from sklearn.svm import OneClassSVM\n",
    "\n",
    "from sklearn.experimental import enable_halving_search_cv\n",
    "from sklearn.model_selection import HalvingGridSearchCV\n",
    "from sklearn.model_selection import RandomizedSearchCV\n",
    "\n",
    "from imblearn.over_sampling import RandomOverSampler\n",
    "from imblearn.under_sampling import RandomUnderSampler\n",
    "from imblearn.pipeline import Pipeline\n",
    "\n",
    "from sklearn.neighbors import KNeighborsClassifier\n",
    "from sklearn.tree import DecisionTreeClassifier\n",
    "from sklearn.ensemble import RandomForestClassifier\n",
    "from sklearn.svm import SVC\n",
    "\n",
    "from sklearn.metrics import accuracy_score, precision_score, recall_score\n",
    "from sklearn.model_selection import cross_val_score\n",
    "from sklearn.model_selection import KFold"
   ]
  },
  {
   "cell_type": "markdown",
   "metadata": {
    "id": "umWGnfGFMQUq"
   },
   "source": [
    "### Load the dataset\n",
    "*   Training Data\n",
    "*   Validation Data\n",
    "*   Test Data"
   ]
  },
  {
   "cell_type": "code",
   "execution_count": 2,
   "metadata": {
    "ExecuteTime": {
     "end_time": "2023-09-22T13:45:29.660769300Z",
     "start_time": "2023-09-22T13:45:29.629654600Z"
    },
    "colab": {
     "base_uri": "https://localhost:8080/"
    },
    "id": "LAAmKpHzMKv6",
    "outputId": "000eca06-6e20-4992-a218-a28e4abad964"
   },
   "outputs": [],
   "source": [
    "# train_path = 'D:\\\\ACADEMIC\\\\SEMESTER 07\\\\ML - 3\\\\project\\\\Layer07\\\\train.csv'\n",
    "# valid_path = 'D:\\\\ACADEMIC\\\\SEMESTER 07\\\\ML - 3\\\\project\\\\Layer07\\\\valid.csv'\n",
    "# test_path = 'D:\\\\ACADEMIC\\\\SEMESTER 07\\\\ML - 3\\\\project\\\\Layer07\\\\test.csv'\n",
    "\n",
    "train_path = './../data/layer 12/layer_12_train.csv'\n",
    "valid_path = './../data/layer 12/layer_12_valid.csv'\n",
    "test_path = './../data/layer 12/layer_12_test.csv'\n",
    "\n",
    "train_data = pd.read_csv(train_path)\n",
    "\n",
    "valid_data = pd.read_csv(valid_path)\n",
    "\n",
    "test_data = pd.read_csv(test_path)"
   ]
  },
  {
   "cell_type": "code",
   "execution_count": 3,
   "metadata": {},
   "outputs": [],
   "source": [
    "test_data = test_data.drop(columns=['label_1', 'label_2', 'label_3', 'label_4'])"
   ]
  },
  {
   "cell_type": "markdown",
   "metadata": {
    "id": "4B1ENntLQ9Gg"
   },
   "source": [
    "### Dataset Info and split dataset according to the labels"
   ]
  },
  {
   "cell_type": "code",
   "execution_count": 4,
   "metadata": {
    "colab": {
     "base_uri": "https://localhost:8080/"
    },
    "id": "r47wVJffQ4BM",
    "outputId": "4a95a3b6-1cec-46a9-be9b-ca718db3f58c"
   },
   "outputs": [
    {
     "name": "stdout",
     "output_type": "stream",
     "text": [
      "(28520, 772)\n",
      "(750, 772)\n",
      "(750, 768)\n"
     ]
    }
   ],
   "source": [
    "print(train_data.shape)\n",
    "print(valid_data.shape)\n",
    "print(test_data.shape)"
   ]
  },
  {
   "cell_type": "code",
   "execution_count": 5,
   "metadata": {
    "colab": {
     "base_uri": "https://localhost:8080/",
     "height": 255
    },
    "id": "ZMVSYcSOSfM0",
    "outputId": "3a3013c5-d37b-4214-e37a-71b5503ae15b"
   },
   "outputs": [
    {
     "data": {
      "text/html": [
       "<div>\n",
       "<style scoped>\n",
       "    .dataframe tbody tr th:only-of-type {\n",
       "        vertical-align: middle;\n",
       "    }\n",
       "\n",
       "    .dataframe tbody tr th {\n",
       "        vertical-align: top;\n",
       "    }\n",
       "\n",
       "    .dataframe thead th {\n",
       "        text-align: right;\n",
       "    }\n",
       "</style>\n",
       "<table border=\"1\" class=\"dataframe\">\n",
       "  <thead>\n",
       "    <tr style=\"text-align: right;\">\n",
       "      <th></th>\n",
       "      <th>feature_1</th>\n",
       "      <th>feature_2</th>\n",
       "      <th>feature_3</th>\n",
       "      <th>feature_4</th>\n",
       "      <th>feature_5</th>\n",
       "      <th>feature_6</th>\n",
       "      <th>feature_7</th>\n",
       "      <th>feature_8</th>\n",
       "      <th>feature_9</th>\n",
       "      <th>feature_10</th>\n",
       "      <th>...</th>\n",
       "      <th>feature_763</th>\n",
       "      <th>feature_764</th>\n",
       "      <th>feature_765</th>\n",
       "      <th>feature_766</th>\n",
       "      <th>feature_767</th>\n",
       "      <th>feature_768</th>\n",
       "      <th>label_1</th>\n",
       "      <th>label_2</th>\n",
       "      <th>label_3</th>\n",
       "      <th>label_4</th>\n",
       "    </tr>\n",
       "  </thead>\n",
       "  <tbody>\n",
       "    <tr>\n",
       "      <th>0</th>\n",
       "      <td>0.170378</td>\n",
       "      <td>0.237555</td>\n",
       "      <td>0.043467</td>\n",
       "      <td>0.098314</td>\n",
       "      <td>0.319561</td>\n",
       "      <td>-0.034903</td>\n",
       "      <td>0.273422</td>\n",
       "      <td>-0.181296</td>\n",
       "      <td>-0.130003</td>\n",
       "      <td>-0.050533</td>\n",
       "      <td>...</td>\n",
       "      <td>-0.599428</td>\n",
       "      <td>-0.040149</td>\n",
       "      <td>-0.039554</td>\n",
       "      <td>0.220258</td>\n",
       "      <td>0.253446</td>\n",
       "      <td>-0.029713</td>\n",
       "      <td>45</td>\n",
       "      <td>NaN</td>\n",
       "      <td>1</td>\n",
       "      <td>6</td>\n",
       "    </tr>\n",
       "    <tr>\n",
       "      <th>1</th>\n",
       "      <td>0.116804</td>\n",
       "      <td>0.272363</td>\n",
       "      <td>-0.053761</td>\n",
       "      <td>0.089773</td>\n",
       "      <td>0.272276</td>\n",
       "      <td>0.011914</td>\n",
       "      <td>0.208539</td>\n",
       "      <td>-0.223243</td>\n",
       "      <td>-0.353159</td>\n",
       "      <td>0.125565</td>\n",
       "      <td>...</td>\n",
       "      <td>-0.376731</td>\n",
       "      <td>-0.116969</td>\n",
       "      <td>-0.023879</td>\n",
       "      <td>0.376468</td>\n",
       "      <td>0.093542</td>\n",
       "      <td>0.012601</td>\n",
       "      <td>45</td>\n",
       "      <td>NaN</td>\n",
       "      <td>1</td>\n",
       "      <td>6</td>\n",
       "    </tr>\n",
       "    <tr>\n",
       "      <th>2</th>\n",
       "      <td>0.259977</td>\n",
       "      <td>0.373373</td>\n",
       "      <td>-0.266022</td>\n",
       "      <td>0.279235</td>\n",
       "      <td>0.392939</td>\n",
       "      <td>-0.095564</td>\n",
       "      <td>0.147236</td>\n",
       "      <td>-0.284521</td>\n",
       "      <td>-0.241698</td>\n",
       "      <td>0.023308</td>\n",
       "      <td>...</td>\n",
       "      <td>-0.503207</td>\n",
       "      <td>0.012953</td>\n",
       "      <td>-0.043270</td>\n",
       "      <td>0.252754</td>\n",
       "      <td>0.350915</td>\n",
       "      <td>-0.056625</td>\n",
       "      <td>45</td>\n",
       "      <td>NaN</td>\n",
       "      <td>1</td>\n",
       "      <td>6</td>\n",
       "    </tr>\n",
       "    <tr>\n",
       "      <th>3</th>\n",
       "      <td>0.124358</td>\n",
       "      <td>0.272876</td>\n",
       "      <td>-0.239626</td>\n",
       "      <td>0.192322</td>\n",
       "      <td>0.607384</td>\n",
       "      <td>0.179180</td>\n",
       "      <td>0.202379</td>\n",
       "      <td>-0.206914</td>\n",
       "      <td>0.095205</td>\n",
       "      <td>-0.027455</td>\n",
       "      <td>...</td>\n",
       "      <td>-0.225356</td>\n",
       "      <td>-0.162062</td>\n",
       "      <td>0.007676</td>\n",
       "      <td>0.291056</td>\n",
       "      <td>0.123154</td>\n",
       "      <td>-0.013536</td>\n",
       "      <td>45</td>\n",
       "      <td>NaN</td>\n",
       "      <td>1</td>\n",
       "      <td>6</td>\n",
       "    </tr>\n",
       "    <tr>\n",
       "      <th>4</th>\n",
       "      <td>0.050589</td>\n",
       "      <td>0.362734</td>\n",
       "      <td>-0.046245</td>\n",
       "      <td>0.067255</td>\n",
       "      <td>0.329067</td>\n",
       "      <td>-0.012923</td>\n",
       "      <td>0.098053</td>\n",
       "      <td>-0.187970</td>\n",
       "      <td>-0.309667</td>\n",
       "      <td>0.006264</td>\n",
       "      <td>...</td>\n",
       "      <td>-0.588841</td>\n",
       "      <td>0.013616</td>\n",
       "      <td>-0.029236</td>\n",
       "      <td>0.365545</td>\n",
       "      <td>0.111253</td>\n",
       "      <td>-0.065507</td>\n",
       "      <td>45</td>\n",
       "      <td>NaN</td>\n",
       "      <td>1</td>\n",
       "      <td>6</td>\n",
       "    </tr>\n",
       "  </tbody>\n",
       "</table>\n",
       "<p>5 rows × 772 columns</p>\n",
       "</div>"
      ],
      "text/plain": [
       "   feature_1  feature_2  feature_3  feature_4  feature_5  feature_6  \\\n",
       "0   0.170378   0.237555   0.043467   0.098314   0.319561  -0.034903   \n",
       "1   0.116804   0.272363  -0.053761   0.089773   0.272276   0.011914   \n",
       "2   0.259977   0.373373  -0.266022   0.279235   0.392939  -0.095564   \n",
       "3   0.124358   0.272876  -0.239626   0.192322   0.607384   0.179180   \n",
       "4   0.050589   0.362734  -0.046245   0.067255   0.329067  -0.012923   \n",
       "\n",
       "   feature_7  feature_8  feature_9  feature_10  ...  feature_763  feature_764  \\\n",
       "0   0.273422  -0.181296  -0.130003   -0.050533  ...    -0.599428    -0.040149   \n",
       "1   0.208539  -0.223243  -0.353159    0.125565  ...    -0.376731    -0.116969   \n",
       "2   0.147236  -0.284521  -0.241698    0.023308  ...    -0.503207     0.012953   \n",
       "3   0.202379  -0.206914   0.095205   -0.027455  ...    -0.225356    -0.162062   \n",
       "4   0.098053  -0.187970  -0.309667    0.006264  ...    -0.588841     0.013616   \n",
       "\n",
       "   feature_765  feature_766  feature_767  feature_768  label_1  label_2  \\\n",
       "0    -0.039554     0.220258     0.253446    -0.029713       45      NaN   \n",
       "1    -0.023879     0.376468     0.093542     0.012601       45      NaN   \n",
       "2    -0.043270     0.252754     0.350915    -0.056625       45      NaN   \n",
       "3     0.007676     0.291056     0.123154    -0.013536       45      NaN   \n",
       "4    -0.029236     0.365545     0.111253    -0.065507       45      NaN   \n",
       "\n",
       "   label_3  label_4  \n",
       "0        1        6  \n",
       "1        1        6  \n",
       "2        1        6  \n",
       "3        1        6  \n",
       "4        1        6  \n",
       "\n",
       "[5 rows x 772 columns]"
      ]
     },
     "execution_count": 5,
     "metadata": {},
     "output_type": "execute_result"
    }
   ],
   "source": [
    "train_data.head()"
   ]
  },
  {
   "cell_type": "code",
   "execution_count": 6,
   "metadata": {
    "colab": {
     "base_uri": "https://localhost:8080/",
     "height": 255
    },
    "id": "F8ONSTT5SkET",
    "outputId": "de02c9ea-18b3-4d32-9fe4-e49437929d4b"
   },
   "outputs": [
    {
     "data": {
      "text/html": [
       "<div>\n",
       "<style scoped>\n",
       "    .dataframe tbody tr th:only-of-type {\n",
       "        vertical-align: middle;\n",
       "    }\n",
       "\n",
       "    .dataframe tbody tr th {\n",
       "        vertical-align: top;\n",
       "    }\n",
       "\n",
       "    .dataframe thead th {\n",
       "        text-align: right;\n",
       "    }\n",
       "</style>\n",
       "<table border=\"1\" class=\"dataframe\">\n",
       "  <thead>\n",
       "    <tr style=\"text-align: right;\">\n",
       "      <th></th>\n",
       "      <th>feature_1</th>\n",
       "      <th>feature_2</th>\n",
       "      <th>feature_3</th>\n",
       "      <th>feature_4</th>\n",
       "      <th>feature_5</th>\n",
       "      <th>feature_6</th>\n",
       "      <th>feature_7</th>\n",
       "      <th>feature_8</th>\n",
       "      <th>feature_9</th>\n",
       "      <th>feature_10</th>\n",
       "      <th>...</th>\n",
       "      <th>feature_763</th>\n",
       "      <th>feature_764</th>\n",
       "      <th>feature_765</th>\n",
       "      <th>feature_766</th>\n",
       "      <th>feature_767</th>\n",
       "      <th>feature_768</th>\n",
       "      <th>label_1</th>\n",
       "      <th>label_2</th>\n",
       "      <th>label_3</th>\n",
       "      <th>label_4</th>\n",
       "    </tr>\n",
       "  </thead>\n",
       "  <tbody>\n",
       "    <tr>\n",
       "      <th>0</th>\n",
       "      <td>0.153978</td>\n",
       "      <td>0.503276</td>\n",
       "      <td>0.022196</td>\n",
       "      <td>0.226684</td>\n",
       "      <td>0.466179</td>\n",
       "      <td>0.154995</td>\n",
       "      <td>0.195452</td>\n",
       "      <td>-0.288972</td>\n",
       "      <td>-0.297589</td>\n",
       "      <td>-0.008409</td>\n",
       "      <td>...</td>\n",
       "      <td>-0.503624</td>\n",
       "      <td>-0.056849</td>\n",
       "      <td>-0.117077</td>\n",
       "      <td>0.168611</td>\n",
       "      <td>0.373346</td>\n",
       "      <td>0.037188</td>\n",
       "      <td>45</td>\n",
       "      <td>NaN</td>\n",
       "      <td>1</td>\n",
       "      <td>6</td>\n",
       "    </tr>\n",
       "    <tr>\n",
       "      <th>1</th>\n",
       "      <td>0.056877</td>\n",
       "      <td>0.261613</td>\n",
       "      <td>0.050610</td>\n",
       "      <td>0.097744</td>\n",
       "      <td>0.322375</td>\n",
       "      <td>-0.011609</td>\n",
       "      <td>0.201331</td>\n",
       "      <td>-0.194763</td>\n",
       "      <td>-0.194228</td>\n",
       "      <td>-0.094267</td>\n",
       "      <td>...</td>\n",
       "      <td>-0.442110</td>\n",
       "      <td>0.008424</td>\n",
       "      <td>-0.067920</td>\n",
       "      <td>0.165600</td>\n",
       "      <td>0.333104</td>\n",
       "      <td>-0.270913</td>\n",
       "      <td>45</td>\n",
       "      <td>NaN</td>\n",
       "      <td>1</td>\n",
       "      <td>6</td>\n",
       "    </tr>\n",
       "    <tr>\n",
       "      <th>2</th>\n",
       "      <td>0.225439</td>\n",
       "      <td>0.350977</td>\n",
       "      <td>-0.295782</td>\n",
       "      <td>0.280168</td>\n",
       "      <td>0.705114</td>\n",
       "      <td>0.020545</td>\n",
       "      <td>0.390878</td>\n",
       "      <td>-0.322853</td>\n",
       "      <td>0.071575</td>\n",
       "      <td>0.013803</td>\n",
       "      <td>...</td>\n",
       "      <td>-0.380124</td>\n",
       "      <td>-0.089572</td>\n",
       "      <td>-0.023344</td>\n",
       "      <td>0.194312</td>\n",
       "      <td>0.269537</td>\n",
       "      <td>-0.292029</td>\n",
       "      <td>45</td>\n",
       "      <td>NaN</td>\n",
       "      <td>1</td>\n",
       "      <td>6</td>\n",
       "    </tr>\n",
       "    <tr>\n",
       "      <th>3</th>\n",
       "      <td>0.288556</td>\n",
       "      <td>0.513905</td>\n",
       "      <td>-0.205246</td>\n",
       "      <td>0.279660</td>\n",
       "      <td>0.469121</td>\n",
       "      <td>0.068339</td>\n",
       "      <td>0.131205</td>\n",
       "      <td>-0.338951</td>\n",
       "      <td>-0.270848</td>\n",
       "      <td>0.007799</td>\n",
       "      <td>...</td>\n",
       "      <td>-0.529678</td>\n",
       "      <td>-0.093194</td>\n",
       "      <td>-0.148418</td>\n",
       "      <td>0.405543</td>\n",
       "      <td>0.438906</td>\n",
       "      <td>-0.055119</td>\n",
       "      <td>45</td>\n",
       "      <td>NaN</td>\n",
       "      <td>1</td>\n",
       "      <td>6</td>\n",
       "    </tr>\n",
       "    <tr>\n",
       "      <th>4</th>\n",
       "      <td>0.165176</td>\n",
       "      <td>0.312492</td>\n",
       "      <td>-0.217504</td>\n",
       "      <td>0.259960</td>\n",
       "      <td>0.568979</td>\n",
       "      <td>-0.093011</td>\n",
       "      <td>0.257977</td>\n",
       "      <td>-0.277132</td>\n",
       "      <td>-0.172113</td>\n",
       "      <td>-0.025929</td>\n",
       "      <td>...</td>\n",
       "      <td>-0.504997</td>\n",
       "      <td>-0.108256</td>\n",
       "      <td>0.036867</td>\n",
       "      <td>0.267815</td>\n",
       "      <td>0.245041</td>\n",
       "      <td>0.117444</td>\n",
       "      <td>45</td>\n",
       "      <td>NaN</td>\n",
       "      <td>1</td>\n",
       "      <td>6</td>\n",
       "    </tr>\n",
       "  </tbody>\n",
       "</table>\n",
       "<p>5 rows × 772 columns</p>\n",
       "</div>"
      ],
      "text/plain": [
       "   feature_1  feature_2  feature_3  feature_4  feature_5  feature_6  \\\n",
       "0   0.153978   0.503276   0.022196   0.226684   0.466179   0.154995   \n",
       "1   0.056877   0.261613   0.050610   0.097744   0.322375  -0.011609   \n",
       "2   0.225439   0.350977  -0.295782   0.280168   0.705114   0.020545   \n",
       "3   0.288556   0.513905  -0.205246   0.279660   0.469121   0.068339   \n",
       "4   0.165176   0.312492  -0.217504   0.259960   0.568979  -0.093011   \n",
       "\n",
       "   feature_7  feature_8  feature_9  feature_10  ...  feature_763  feature_764  \\\n",
       "0   0.195452  -0.288972  -0.297589   -0.008409  ...    -0.503624    -0.056849   \n",
       "1   0.201331  -0.194763  -0.194228   -0.094267  ...    -0.442110     0.008424   \n",
       "2   0.390878  -0.322853   0.071575    0.013803  ...    -0.380124    -0.089572   \n",
       "3   0.131205  -0.338951  -0.270848    0.007799  ...    -0.529678    -0.093194   \n",
       "4   0.257977  -0.277132  -0.172113   -0.025929  ...    -0.504997    -0.108256   \n",
       "\n",
       "   feature_765  feature_766  feature_767  feature_768  label_1  label_2  \\\n",
       "0    -0.117077     0.168611     0.373346     0.037188       45      NaN   \n",
       "1    -0.067920     0.165600     0.333104    -0.270913       45      NaN   \n",
       "2    -0.023344     0.194312     0.269537    -0.292029       45      NaN   \n",
       "3    -0.148418     0.405543     0.438906    -0.055119       45      NaN   \n",
       "4     0.036867     0.267815     0.245041     0.117444       45      NaN   \n",
       "\n",
       "   label_3  label_4  \n",
       "0        1        6  \n",
       "1        1        6  \n",
       "2        1        6  \n",
       "3        1        6  \n",
       "4        1        6  \n",
       "\n",
       "[5 rows x 772 columns]"
      ]
     },
     "execution_count": 6,
     "metadata": {},
     "output_type": "execute_result"
    }
   ],
   "source": [
    "valid_data.head()"
   ]
  },
  {
   "cell_type": "code",
   "execution_count": 7,
   "metadata": {
    "colab": {
     "base_uri": "https://localhost:8080/",
     "height": 255
    },
    "id": "DbrFHC0dWwE1",
    "outputId": "c8645b4e-35ff-4937-89da-b75a93cfcbdb"
   },
   "outputs": [
    {
     "data": {
      "text/html": [
       "<div>\n",
       "<style scoped>\n",
       "    .dataframe tbody tr th:only-of-type {\n",
       "        vertical-align: middle;\n",
       "    }\n",
       "\n",
       "    .dataframe tbody tr th {\n",
       "        vertical-align: top;\n",
       "    }\n",
       "\n",
       "    .dataframe thead th {\n",
       "        text-align: right;\n",
       "    }\n",
       "</style>\n",
       "<table border=\"1\" class=\"dataframe\">\n",
       "  <thead>\n",
       "    <tr style=\"text-align: right;\">\n",
       "      <th></th>\n",
       "      <th>feature_1</th>\n",
       "      <th>feature_2</th>\n",
       "      <th>feature_3</th>\n",
       "      <th>feature_4</th>\n",
       "      <th>feature_5</th>\n",
       "      <th>feature_6</th>\n",
       "      <th>feature_7</th>\n",
       "      <th>feature_8</th>\n",
       "      <th>feature_9</th>\n",
       "      <th>feature_10</th>\n",
       "      <th>...</th>\n",
       "      <th>feature_759</th>\n",
       "      <th>feature_760</th>\n",
       "      <th>feature_761</th>\n",
       "      <th>feature_762</th>\n",
       "      <th>feature_763</th>\n",
       "      <th>feature_764</th>\n",
       "      <th>feature_765</th>\n",
       "      <th>feature_766</th>\n",
       "      <th>feature_767</th>\n",
       "      <th>feature_768</th>\n",
       "    </tr>\n",
       "  </thead>\n",
       "  <tbody>\n",
       "    <tr>\n",
       "      <th>0</th>\n",
       "      <td>0.080591</td>\n",
       "      <td>0.164605</td>\n",
       "      <td>0.154187</td>\n",
       "      <td>0.043112</td>\n",
       "      <td>0.427232</td>\n",
       "      <td>-0.115058</td>\n",
       "      <td>0.222649</td>\n",
       "      <td>-0.186343</td>\n",
       "      <td>-0.246751</td>\n",
       "      <td>-0.036659</td>\n",
       "      <td>...</td>\n",
       "      <td>0.069021</td>\n",
       "      <td>0.074522</td>\n",
       "      <td>-0.074720</td>\n",
       "      <td>-0.256106</td>\n",
       "      <td>-0.512870</td>\n",
       "      <td>-0.041486</td>\n",
       "      <td>-0.023220</td>\n",
       "      <td>0.103020</td>\n",
       "      <td>0.288347</td>\n",
       "      <td>-0.173727</td>\n",
       "    </tr>\n",
       "    <tr>\n",
       "      <th>1</th>\n",
       "      <td>0.102958</td>\n",
       "      <td>0.188624</td>\n",
       "      <td>0.020285</td>\n",
       "      <td>-0.012674</td>\n",
       "      <td>0.361788</td>\n",
       "      <td>-0.009579</td>\n",
       "      <td>0.051360</td>\n",
       "      <td>-0.170510</td>\n",
       "      <td>-0.234939</td>\n",
       "      <td>0.015087</td>\n",
       "      <td>...</td>\n",
       "      <td>-0.178965</td>\n",
       "      <td>0.044130</td>\n",
       "      <td>-0.198727</td>\n",
       "      <td>-0.368367</td>\n",
       "      <td>-0.417991</td>\n",
       "      <td>-0.084467</td>\n",
       "      <td>-0.027814</td>\n",
       "      <td>0.338991</td>\n",
       "      <td>0.148317</td>\n",
       "      <td>-0.074232</td>\n",
       "    </tr>\n",
       "    <tr>\n",
       "      <th>2</th>\n",
       "      <td>0.313926</td>\n",
       "      <td>0.357592</td>\n",
       "      <td>-0.261225</td>\n",
       "      <td>0.241096</td>\n",
       "      <td>0.434547</td>\n",
       "      <td>0.097328</td>\n",
       "      <td>0.252501</td>\n",
       "      <td>-0.271017</td>\n",
       "      <td>-0.375891</td>\n",
       "      <td>0.085641</td>\n",
       "      <td>...</td>\n",
       "      <td>-0.302819</td>\n",
       "      <td>0.116413</td>\n",
       "      <td>-0.218482</td>\n",
       "      <td>-0.362626</td>\n",
       "      <td>-0.514325</td>\n",
       "      <td>-0.039517</td>\n",
       "      <td>-0.101682</td>\n",
       "      <td>0.213237</td>\n",
       "      <td>0.398050</td>\n",
       "      <td>-0.161745</td>\n",
       "    </tr>\n",
       "    <tr>\n",
       "      <th>3</th>\n",
       "      <td>0.021505</td>\n",
       "      <td>0.330326</td>\n",
       "      <td>0.100439</td>\n",
       "      <td>0.253199</td>\n",
       "      <td>0.531878</td>\n",
       "      <td>-0.083755</td>\n",
       "      <td>0.174284</td>\n",
       "      <td>-0.327236</td>\n",
       "      <td>-0.022677</td>\n",
       "      <td>-0.039493</td>\n",
       "      <td>...</td>\n",
       "      <td>-0.028008</td>\n",
       "      <td>0.064646</td>\n",
       "      <td>-0.055516</td>\n",
       "      <td>0.151823</td>\n",
       "      <td>-0.263436</td>\n",
       "      <td>-0.024832</td>\n",
       "      <td>-0.108900</td>\n",
       "      <td>0.065488</td>\n",
       "      <td>0.352082</td>\n",
       "      <td>-0.107765</td>\n",
       "    </tr>\n",
       "    <tr>\n",
       "      <th>4</th>\n",
       "      <td>0.171376</td>\n",
       "      <td>0.401234</td>\n",
       "      <td>-0.375235</td>\n",
       "      <td>0.355669</td>\n",
       "      <td>0.544285</td>\n",
       "      <td>-0.086168</td>\n",
       "      <td>0.149456</td>\n",
       "      <td>-0.217711</td>\n",
       "      <td>0.096350</td>\n",
       "      <td>-0.077529</td>\n",
       "      <td>...</td>\n",
       "      <td>0.049655</td>\n",
       "      <td>-0.016975</td>\n",
       "      <td>-0.173474</td>\n",
       "      <td>-0.194211</td>\n",
       "      <td>-0.366234</td>\n",
       "      <td>-0.023846</td>\n",
       "      <td>0.022874</td>\n",
       "      <td>0.345245</td>\n",
       "      <td>0.423611</td>\n",
       "      <td>-0.361004</td>\n",
       "    </tr>\n",
       "  </tbody>\n",
       "</table>\n",
       "<p>5 rows × 768 columns</p>\n",
       "</div>"
      ],
      "text/plain": [
       "   feature_1  feature_2  feature_3  feature_4  feature_5  feature_6  \\\n",
       "0   0.080591   0.164605   0.154187   0.043112   0.427232  -0.115058   \n",
       "1   0.102958   0.188624   0.020285  -0.012674   0.361788  -0.009579   \n",
       "2   0.313926   0.357592  -0.261225   0.241096   0.434547   0.097328   \n",
       "3   0.021505   0.330326   0.100439   0.253199   0.531878  -0.083755   \n",
       "4   0.171376   0.401234  -0.375235   0.355669   0.544285  -0.086168   \n",
       "\n",
       "   feature_7  feature_8  feature_9  feature_10  ...  feature_759  feature_760  \\\n",
       "0   0.222649  -0.186343  -0.246751   -0.036659  ...     0.069021     0.074522   \n",
       "1   0.051360  -0.170510  -0.234939    0.015087  ...    -0.178965     0.044130   \n",
       "2   0.252501  -0.271017  -0.375891    0.085641  ...    -0.302819     0.116413   \n",
       "3   0.174284  -0.327236  -0.022677   -0.039493  ...    -0.028008     0.064646   \n",
       "4   0.149456  -0.217711   0.096350   -0.077529  ...     0.049655    -0.016975   \n",
       "\n",
       "   feature_761  feature_762  feature_763  feature_764  feature_765  \\\n",
       "0    -0.074720    -0.256106    -0.512870    -0.041486    -0.023220   \n",
       "1    -0.198727    -0.368367    -0.417991    -0.084467    -0.027814   \n",
       "2    -0.218482    -0.362626    -0.514325    -0.039517    -0.101682   \n",
       "3    -0.055516     0.151823    -0.263436    -0.024832    -0.108900   \n",
       "4    -0.173474    -0.194211    -0.366234    -0.023846     0.022874   \n",
       "\n",
       "   feature_766  feature_767  feature_768  \n",
       "0     0.103020     0.288347    -0.173727  \n",
       "1     0.338991     0.148317    -0.074232  \n",
       "2     0.213237     0.398050    -0.161745  \n",
       "3     0.065488     0.352082    -0.107765  \n",
       "4     0.345245     0.423611    -0.361004  \n",
       "\n",
       "[5 rows x 768 columns]"
      ]
     },
     "execution_count": 7,
     "metadata": {},
     "output_type": "execute_result"
    }
   ],
   "source": [
    "test_data.head()"
   ]
  },
  {
   "cell_type": "markdown",
   "metadata": {
    "id": "7La420gAYKtb"
   },
   "source": [
    "Prepare training and validation data for each label"
   ]
  },
  {
   "cell_type": "code",
   "execution_count": 8,
   "metadata": {
    "id": "mLiwYHqRX6uO"
   },
   "outputs": [],
   "source": [
    "train_data_label1 = train_data.drop(columns=['label_2', 'label_3', 'label_4'])\n",
    "train_data_label2 = train_data.drop(columns=['label_1', 'label_3', 'label_4'])\n",
    "train_data_label3 = train_data.drop(columns=['label_1', 'label_2', 'label_4'])\n",
    "train_data_label4 = train_data.drop(columns=['label_1', 'label_2', 'label_3'])\n",
    "\n",
    "valid_data_label1 = valid_data.drop(columns=['label_2', 'label_3', 'label_4'])\n",
    "valid_data_label2 = valid_data.drop(columns=['label_1', 'label_3', 'label_4'])\n",
    "valid_data_label3 = valid_data.drop(columns=['label_1', 'label_2', 'label_4'])\n",
    "valid_data_label4 = valid_data.drop(columns=['label_1', 'label_2', 'label_3'])"
   ]
  },
  {
   "cell_type": "markdown",
   "metadata": {
    "id": "89ITqDiq-upk"
   },
   "source": [
    "# Define Functions"
   ]
  },
  {
   "cell_type": "markdown",
   "metadata": {
    "id": "K5EVQB5zAuo8"
   },
   "source": [
    "## Feature Engineering"
   ]
  },
  {
   "cell_type": "markdown",
   "metadata": {
    "id": "bAO1u_SM_RvG"
   },
   "source": [
    "> *Train a model to predict the label 01 after appling some feature engineering techniques and methods to the training data.\n",
    "Features are selected based on the correlation matrix and the PCA used to extract the features*"
   ]
  },
  {
   "cell_type": "markdown",
   "metadata": {
    "id": "X0_4PjoBAocZ"
   },
   "source": [
    "### Data Cleaning"
   ]
  },
  {
   "cell_type": "markdown",
   "metadata": {
    "id": "qGVPy9vKBBMR"
   },
   "source": [
    "\n",
    "\n",
    "> Remove null values for labels and determine missing values in features\n"
   ]
  },
  {
   "cell_type": "markdown",
   "metadata": {
    "id": "GauDtDG8F6i7"
   },
   "source": [
    "**Drop** the rows where there are null values for the lables in the training dataset"
   ]
  },
  {
   "cell_type": "code",
   "execution_count": 9,
   "metadata": {
    "colab": {
     "base_uri": "https://localhost:8080/"
    },
    "id": "jTPGeSE6YZ_e",
    "outputId": "57b489ce-11a0-41c7-ac89-9f7336795878"
   },
   "outputs": [],
   "source": [
    "def clean_null_labels(train_data_label1, label):\n",
    "    print(\"Train set shape before: {}\".format(train_data_label1.shape))\n",
    "\n",
    "    train_features_null_counts = train_data_label1.drop(columns=[f'label_{label}']).isnull().sum()\n",
    "    train_label_null_count = train_data_label1[f'label_{label}'].isnull().sum()\n",
    "    print(\"Null value counts of the features\\n{}\".format(train_features_null_counts))\n",
    "    print(\"Null value count: {}\".format(train_label_null_count))\n",
    "\n",
    "    cleaned = train_data_label1.dropna(subset=train_data_label1.columns[-1:], how='any')\n",
    "    print(\"Train set shape after: {}\".format(cleaned.shape))\n",
    "    return cleaned"
   ]
  },
  {
   "cell_type": "markdown",
   "metadata": {
    "id": "mu4qF7_jFsna"
   },
   "source": [
    "Fill the null values in the features with their **means** in the datasets."
   ]
  },
  {
   "cell_type": "code",
   "execution_count": 10,
   "metadata": {
    "id": "XERatcIdCDUD"
   },
   "outputs": [],
   "source": [
    "def fill_null_features(train_data_label1, valid_data_label1, test_data):\n",
    "    train_data_label1 = train_data_label1.fillna(train_data_label1.mean())\n",
    "    valid_data_label1 = valid_data_label1.fillna(valid_data_label1.mean())\n",
    "    test_data = test_data.fillna(test_data.mean())\n",
    "    return train_data_label1, valid_data_label1, test_data"
   ]
  },
  {
   "cell_type": "markdown",
   "metadata": {
    "id": "GXncTN4iGSCq"
   },
   "source": [
    "Split the Features and Labels in the dataset"
   ]
  },
  {
   "cell_type": "code",
   "execution_count": 11,
   "metadata": {
    "id": "QgrscOI8GK7N"
   },
   "outputs": [],
   "source": [
    "def split_features_labels(train_data_label1, valid_data_label1, test_data, label):\n",
    "    train_features_label1 = train_data_label1.iloc[:, :-1]\n",
    "    train_label1 = train_data_label1[f'label_{label}']\n",
    "\n",
    "    valid_features_label1 = valid_data_label1.iloc[:, :-1]\n",
    "    valid_label1 = valid_data_label1[f'label_{label}']\n",
    "\n",
    "    test_features_label1 = test_data\n",
    "    return train_features_label1, train_label1, valid_features_label1, valid_label1, test_features_label1"
   ]
  },
  {
   "cell_type": "markdown",
   "metadata": {
    "id": "0aM68t1rHePY"
   },
   "source": [
    "Label 01 distribution after cleaning"
   ]
  },
  {
   "cell_type": "code",
   "execution_count": 12,
   "metadata": {
    "colab": {
     "base_uri": "https://localhost:8080/",
     "height": 321
    },
    "id": "0m7qU-KYGt4G",
    "outputId": "6bcb05af-bb47-4ae4-8816-62b2bf6e795a"
   },
   "outputs": [],
   "source": [
    "def plot_label(train_label1, label):    \n",
    "    labels, counts = np.unique(train_label1, return_counts=True)\n",
    "\n",
    "    plt.figure(figsize=(18, 3))\n",
    "    plt.xticks(labels)\n",
    "    plt.bar(labels, counts)\n",
    "    plt.xlabel(f'label_{label}')\n",
    "    plt.ylabel('Frequency')\n",
    "    plt.title('Distribution of the Label')\n",
    "    plt.show()"
   ]
  },
  {
   "cell_type": "markdown",
   "metadata": {
    "id": "SzlcHhaPIHQx"
   },
   "source": [
    "### Feature Standardization"
   ]
  },
  {
   "cell_type": "markdown",
   "metadata": {
    "id": "_-mu8uhsIS_q"
   },
   "source": [
    "> Standardize the features of the dataset using **Robust scaler**"
   ]
  },
  {
   "cell_type": "code",
   "execution_count": 13,
   "metadata": {
    "id": "23WWgkXYHcvy"
   },
   "outputs": [],
   "source": [
    "def standardize_data(label, train_features_label1, valid_features_label1, test_features_label1, scaler=StandardScaler()): \n",
    "    standardized_train_features_label1 = scaler.fit_transform(train_features_label1)\n",
    "    standardized_valid_features_label1 = scaler.transform(valid_features_label1)\n",
    "    standardized_test_features_label1 = scaler.transform(test_features_label1)\n",
    "    \n",
    "    joblib.dump(scaler, f'./../saved_components/layer12/label_{label}/scaler.pkl')\n",
    "    \n",
    "    return standardized_train_features_label1, standardized_valid_features_label1, standardized_test_features_label1"
   ]
  },
  {
   "cell_type": "markdown",
   "metadata": {
    "id": "fb8ymUTbIo_m"
   },
   "source": [
    "### Feature Extraction"
   ]
  },
  {
   "cell_type": "markdown",
   "metadata": {
    "id": "53vt06AyIvnr"
   },
   "source": [
    "> Principal Componenet Analysis(PCA) used to extract the features that can explain the variance of the label to 95% and display the resulting explained variances of each PC"
   ]
  },
  {
   "cell_type": "code",
   "execution_count": 14,
   "metadata": {
    "colab": {
     "base_uri": "https://localhost:8080/",
     "height": 906
    },
    "id": "UKZT8yQZIhEr",
    "outputId": "2391cce2-b13d-4ab7-db9b-369eec1d7fdb"
   },
   "outputs": [],
   "source": [
    "def apply_PCA(label, standardized_train_features_label1, standardized_valid_features_label1, standardized_test_features_label1, variance_threshold):\n",
    "\n",
    "    pca = PCA(n_components=variance_threshold, svd_solver='full')\n",
    "\n",
    "    pca_train_features_label1 = pca.fit_transform(standardized_train_features_label1)\n",
    "    pca_valid_features_label1 = pca.transform(standardized_valid_features_label1)\n",
    "    pca_test_features_label1 = pca.transform(standardized_test_features_label1)\n",
    "\n",
    "    explained_variance_ratio_reduced = pca.explained_variance_ratio_\n",
    "\n",
    "    plt.figure(figsize=(18, 10))\n",
    "    plt.bar(range(1, pca_train_features_label1.shape[1] + 1), explained_variance_ratio_reduced)\n",
    "    plt.xlabel('Principal Component')\n",
    "    plt.ylabel('Explained Variance Ratio')\n",
    "    plt.title('Explained Variance Ratio per Principal Component (Reduced)')\n",
    "    plt.show()\n",
    "\n",
    "    print(\"\\nReduced Train feature matrix shape: {}\".format(pca_train_features_label1.shape))\n",
    "    print(\"Reduced valid feature matrix shape: {}\".format(pca_valid_features_label1.shape))\n",
    "    print(\"Reduced test feature matrix shape: {}\".format(pca_test_features_label1.shape))\n",
    "    \n",
    "    joblib.dump(pca, f'./../saved_components/layer12/label_{label}/pca.pkl')\n",
    "    \n",
    "    return pca_train_features_label1, pca_valid_features_label1, pca_test_features_label1"
   ]
  },
  {
   "cell_type": "markdown",
   "metadata": {
    "id": "Mrglx6ipKCb3"
   },
   "source": [
    "### Feature Selection"
   ]
  },
  {
   "cell_type": "markdown",
   "metadata": {
    "id": "HjOXvyV2KGhy"
   },
   "source": [
    "> Feature selection is typically performed in two ways: first, by checking for correlations among the features and removing highly correlated redundant features, and second, by assessing the correlations between the features and the label 01 and eliminating less related features with the label."
   ]
  },
  {
   "cell_type": "markdown",
   "metadata": {
    "id": "OxleaP2BL0j2"
   },
   "source": [
    "Get the correlation matrix of the training features"
   ]
  },
  {
   "cell_type": "code",
   "execution_count": 15,
   "metadata": {
    "colab": {
     "base_uri": "https://localhost:8080/",
     "height": 1000
    },
    "id": "wpXcBpWmJ1eA",
    "outputId": "1f3abb69-7490-4139-992e-0529dfae95cb"
   },
   "outputs": [],
   "source": [
    "# correlation_matrix = pd.DataFrame(pca_train_features_label1).corr()\n",
    "\n",
    "# mask = np.triu(np.ones_like(correlation_matrix))\n",
    "\n",
    "# plt.figure(figsize=(12, 12))\n",
    "# sns.heatmap(correlation_matrix, cmap='coolwarm', center=0, mask=mask)\n",
    "# plt.title(\"Correlation Matrix\")\n",
    "# plt.show()"
   ]
  },
  {
   "cell_type": "markdown",
   "metadata": {
    "id": "-NK8gnvPKeUy"
   },
   "source": [
    "Identify the highly corellated features in the features set and remove them from the features set"
   ]
  },
  {
   "cell_type": "code",
   "execution_count": 16,
   "metadata": {
    "colab": {
     "base_uri": "https://localhost:8080/"
    },
    "id": "YnMKXHDOMMzc",
    "outputId": "4673b97b-e06f-46a5-a26a-818db513b64d"
   },
   "outputs": [],
   "source": [
    "# print(\"Train features: {}\".format(pca_train_features_label1.shape))\n",
    "# print(\"Valid features: {}\".format(pca_valid_features_label1.shape))\n",
    "# print(\"Test features: {}\".format(pca_test_features_label1.shape))\n",
    "\n",
    "# correlation_threshold = 0.8\n",
    "\n",
    "# highly_correlated = set()\n",
    "\n",
    "# for i in range(len(correlation_matrix.columns)):\n",
    "#     for j in range(i):\n",
    "#         if abs(correlation_matrix.iloc[i, j]) > correlation_threshold:\n",
    "#             colname = correlation_matrix.columns[i]\n",
    "#             highly_correlated.add(colname)\n",
    "\n",
    "# print(highly_correlated)\n",
    "\n",
    "# pca_train_features_label1 = pd.DataFrame(pca_train_features_label1).drop(columns=highly_correlated)\n",
    "# pca_valid_features_label1 = pd.DataFrame(pca_valid_features_label1).drop(columns=highly_correlated)\n",
    "# pca_test_features_label1 = pd.DataFrame(pca_test_features_label1).drop(columns=highly_correlated)\n",
    "\n",
    "\n",
    "# print(\"Filtered train features: {}\".format(pca_train_features_label1.shape))\n",
    "# print(\"Filtered valid features: {}\".format(pca_valid_features_label1.shape))\n",
    "# print(\"Filtered test features: {}\".format(pca_test_features_label1.shape))"
   ]
  },
  {
   "cell_type": "markdown",
   "metadata": {
    "id": "BuSeaLQhEHE2"
   },
   "source": [
    "Identify the highly correlated features with the label using the traning dataset and extract the features that are only highly correlated with the label"
   ]
  },
  {
   "cell_type": "code",
   "execution_count": 17,
   "metadata": {
    "colab": {
     "base_uri": "https://localhost:8080/"
    },
    "id": "6ImjrBwEMRo1",
    "outputId": "7c720d58-408a-4bb1-92a0-eabfff9ff3c3"
   },
   "outputs": [],
   "source": [
    "# print(\"Train features: {}\".format(pca_train_features_label1.shape))\n",
    "# print(\"Valid features: {}\".format(pca_valid_features_label1.shape))\n",
    "# print(\"Test features: {}\".format(pca_test_features_label1.shape))\n",
    "\n",
    "# correlation_with_target = pca_train_features_label1.corrwith(train_label1)\n",
    "\n",
    "# correlation_threshold = 0.005\n",
    "\n",
    "# highly_correlated_features = correlation_with_target[correlation_with_target.abs() > correlation_threshold]\n",
    "\n",
    "# print(highly_correlated_features)\n",
    "\n",
    "# pca_train_features_label1 = pca_train_features_label1[highly_correlated_features.index]\n",
    "# pca_valid_features_label1 = pca_valid_features_label1[highly_correlated_features.index]\n",
    "# pca_test_features_label1 = pca_test_features_label1[highly_correlated_features.index]\n",
    "\n",
    "# print(\"Filtered train features: {}\".format(pca_train_features_label1.shape))\n",
    "# print(\"Filtered valid features: {}\".format(pca_valid_features_label1.shape))\n",
    "# print(\"Filtered test features: {}\".format(pca_test_features_label1.shape))"
   ]
  },
  {
   "cell_type": "markdown",
   "metadata": {
    "id": "iG5x5ozpHIzs"
   },
   "source": [
    "## Hyperparameter tuning"
   ]
  },
  {
   "cell_type": "markdown",
   "metadata": {
    "id": "qsOhUhRFHmHe"
   },
   "source": [
    "Define parameters for random search"
   ]
  },
  {
   "cell_type": "code",
   "execution_count": 18,
   "metadata": {
    "id": "-QzNxRu2Hjxg"
   },
   "outputs": [],
   "source": [
    "def get_hyper_params():\n",
    "    svm_grid_params = {\n",
    "        'C': [0.1, 1, 10, 100, 1000],\n",
    "        'gamma': [1, 0.1, 0.01, 0.001, 0.0001],\n",
    "        'kernel': ['rbf','linear']\n",
    "    }\n",
    "\n",
    "    knn_grid_params = {\n",
    "        'n_neighbors' : [3, 5, 7, 9, 11, 13],\n",
    "        'weights' : ['uniform', 'distance'],\n",
    "        'metric' : ['minkowski', 'euclidean', 'manhattan', 'hamming']\n",
    "    }\n",
    "\n",
    "    random_forest_grid_params = {\n",
    "        'bootstrap': [True, False],\n",
    "        'max_depth': [10, 20, 30, 40, 50, 60, 70, 80, 90, 100, None],\n",
    "        'max_features': ['auto', 'sqrt'],\n",
    "        'min_samples_leaf': [1, 2, 4],\n",
    "        'min_samples_split': [2, 5, 10],\n",
    "        'n_estimators': [200, 400, 600, 800, 1000, 1200, 1400, 1600, 1800, 2000]\n",
    "    }\n",
    "    return svm_grid_params, knn_grid_params, random_forest_grid_params"
   ]
  },
  {
   "cell_type": "markdown",
   "metadata": {
    "id": "qGKKVOGDa2x6"
   },
   "source": [
    "Tune hyperparameters with the best method by testing severel methods and for several models"
   ]
  },
  {
   "cell_type": "code",
   "execution_count": 19,
   "metadata": {
    "colab": {
     "base_uri": "https://localhost:8080/"
    },
    "id": "6heHCySOa_rz",
    "outputId": "ef84867f-08c2-4612-a030-62b0beeffe1f"
   },
   "outputs": [],
   "source": [
    "def tune_hyper_params(svm_grid_params, knn_grid_params, rf_grid_params, pca_train_features_label1, train_label1, rand=True):\n",
    "    classification_models_params = [\n",
    "        ('SVM', SVC(), svm_grid_params),\n",
    "    #     ('K Neighbors', KNeighborsClassifier(), knn_grid_params),\n",
    "    #     ('Random Forest', RandomForestClassifier(), rf_grid_params)\n",
    "    ]\n",
    "\n",
    "    for model_name, model, grid_params in classification_models_params:\n",
    "        if rand:\n",
    "            search = RandomizedSearchCV(\n",
    "                estimator = model,\n",
    "                param_distributions = grid_params,\n",
    "                n_iter = 40, cv = 3, verbose=4, random_state=42, n_jobs = -1\n",
    "            )\n",
    "        else:\n",
    "            search = HalvingGridSearchCV(\n",
    "                estimator=model,\n",
    "                param_grid=grid_params,\n",
    "                cv=3,\n",
    "                n_jobs=-1,\n",
    "                factor=2,\n",
    "                verbose=2\n",
    "            )\n",
    "        result = search.fit(pca_train_features_label1, train_label1)\n",
    "\n",
    "        print(f\"best score for {model_name} : {result.best_score_}\")\n",
    "        print(f\"best hyper parameters for {model_name} : {result.best_params_}\")"
   ]
  },
  {
   "cell_type": "markdown",
   "metadata": {},
   "source": [
    "## Train the best performing model"
   ]
  },
  {
   "cell_type": "markdown",
   "metadata": {},
   "source": [
    "Select the model that best predicts the valid and test datasets based on accuracy, precision and recall and train"
   ]
  },
  {
   "cell_type": "code",
   "execution_count": 20,
   "metadata": {
    "colab": {
     "base_uri": "https://localhost:8080/"
    },
    "id": "6HwLQtcazyUa",
    "outputId": "33d08be7-b9eb-4d19-e0fa-4e22f9fb5dc4"
   },
   "outputs": [],
   "source": [
    "def train_model(label, pca_train_features_label1, train_label1, pca_valid_features_label1, valid_label1, svm=None, rf=None, knn=None):\n",
    "    classification_models = [\n",
    "        # ('K Neighbors', knn),\n",
    "        # ('Random Forest', rf),\n",
    "        ('SVM', svm)\n",
    "        \n",
    "    ]\n",
    "    \n",
    "    models = []\n",
    "\n",
    "    for model_name, model in classification_models:\n",
    "        num_features = pca_train_features_label1.shape[1]\n",
    "        print(f\"{model_name} is training for {num_features} number of features\\n\")\n",
    "        \n",
    "        models.append(model)\n",
    "        # kf = KFold(n_splits=3, random_state=42, shuffle=True)\n",
    "        # cross_val_scores = cross_val_score(model, pca_train_features_label1, train_label1, cv=kf, verbose=4)\n",
    "\n",
    "        # print(\"CV Accuracy: %0.4f accuracy with a standard deviation of %0.2f\" % (cross_val_scores.mean(), cross_val_scores.std()))\n",
    "        # print(\"\\n\")\n",
    "        model.fit(pca_train_features_label1, train_label1)\n",
    "        \n",
    "        joblib.dump(model, f'./../saved_components/layer12/label_{label}/model.pkl')\n",
    "    \n",
    "    return models"
   ]
  },
  {
   "cell_type": "code",
   "execution_count": 21,
   "metadata": {},
   "outputs": [],
   "source": [
    "def get_test_result(pca_train_features_label1, train_label1, pca_test_features_label1, model): \n",
    "    model.fit(pca_train_features_label1, train_label1)\n",
    "    return model.predict(pca_test_features_label1)"
   ]
  },
  {
   "cell_type": "code",
   "execution_count": 22,
   "metadata": {},
   "outputs": [],
   "source": [
    "def create_csv(ID, pred_label1, destination):\n",
    "  df = pd.DataFrame()\n",
    "\n",
    "  df.insert(loc=0, column='ID', value=ID)\n",
    "  df.insert(loc=1, column='label_1', value=pred_label1)\n",
    "\n",
    "  df.to_csv(destination, index=False)"
   ]
  },
  {
   "cell_type": "markdown",
   "metadata": {},
   "source": [
    "# Label 01"
   ]
  },
  {
   "cell_type": "code",
   "execution_count": 23,
   "metadata": {},
   "outputs": [
    {
     "name": "stdout",
     "output_type": "stream",
     "text": [
      "Train set shape before: (28520, 769)\n",
      "Null value counts of the features\n",
      "feature_1      0\n",
      "feature_2      0\n",
      "feature_3      0\n",
      "feature_4      0\n",
      "feature_5      0\n",
      "              ..\n",
      "feature_764    0\n",
      "feature_765    0\n",
      "feature_766    0\n",
      "feature_767    0\n",
      "feature_768    0\n",
      "Length: 768, dtype: int64\n",
      "Null value count: 0\n",
      "Train set shape after: (28520, 769)\n"
     ]
    },
    {
     "data": {
      "image/png": "[encoded data removed]",
      "text/plain": [
       "<Figure size 1800x300 with 1 Axes>"
      ]
     },
     "metadata": {},
     "output_type": "display_data"
    }
   ],
   "source": [
    "train_data_label1 = clean_null_labels(train_data_label1, 1)\n",
    "train_data_label1, valid_data_label1, test_data = fill_null_features(train_data_label1, valid_data_label1, test_data)\n",
    "train_features_label1, train_label1, valid_features_label1, valid_label1, test_features_label1 = split_features_labels(train_data_label1, valid_data_label1, test_data, 1)\n",
    "plot_label(train_label1, 1)"
   ]
  },
  {
   "cell_type": "code",
   "execution_count": 24,
   "metadata": {},
   "outputs": [],
   "source": [
    "standardized_train_features_label1, standardized_valid_features_label1, standardized_test_features_label1 = standardize_data(1, train_features_label1, valid_features_label1, test_features_label1, StandardScaler())"
   ]
  },
  {
   "cell_type": "code",
   "execution_count": 25,
   "metadata": {},
   "outputs": [
    {
     "data": {
      "image/png": "[encoded data removed]",
      "text/plain": [
       "<Figure size 1800x1000 with 1 Axes>"
      ]
     },
     "metadata": {},
     "output_type": "display_data"
    },
    {
     "name": "stdout",
     "output_type": "stream",
     "text": [
      "\n",
      "Reduced Train feature matrix shape: (28520, 282)\n",
      "Reduced valid feature matrix shape: (750, 282)\n",
      "Reduced test feature matrix shape: (750, 282)\n"
     ]
    }
   ],
   "source": [
    "pca_train_features_label1, pca_valid_features_label1, pca_test_features_label1 = apply_PCA(1, standardized_train_features_label1, standardized_valid_features_label1, standardized_test_features_label1, 0.99)"
   ]
  },
  {
   "cell_type": "code",
   "execution_count": 26,
   "metadata": {},
   "outputs": [],
   "source": [
    "# svm_grid_params, knn_grid_params, random_forest_grid_params = get_hyper_params()\n",
    "# tune_hyper_params(svm_grid_params, knn_grid_params, random_forest_grid_params, pca_train_features_label1, train_label1, rand=True)"
   ]
  },
  {
   "cell_type": "code",
   "execution_count": 27,
   "metadata": {},
   "outputs": [
    {
     "name": "stdout",
     "output_type": "stream",
     "text": [
      "SVM is training for 768 number of features\n",
      "\n"
     ]
    }
   ],
   "source": [
    "model1 = train_model(1, standardized_train_features_label1, train_label1, standardized_valid_features_label1, valid_label1, SVC(C=100, gamma=0.001, kernel='rbf', class_weight='balanced'))"
   ]
  },
  {
   "cell_type": "code",
   "execution_count": 28,
   "metadata": {},
   "outputs": [],
   "source": [
    "y_pred_test_label1 = get_test_result(standardized_train_features_label1, train_label1, standardized_test_features_label1, model1[0])"
   ]
  },
  {
   "cell_type": "code",
   "execution_count": null,
   "metadata": {},
   "outputs": [],
   "source": [
    "destination = '/home/dakshina/Documents/MLProject/results/1.csv'\n",
    "\n",
    "create_csv(test_IDs, y_pred_test_label1, destination)"
   ]
  },
  {
   "cell_type": "markdown",
   "metadata": {},
   "source": [
    "# Label 02"
   ]
  },
  {
   "cell_type": "code",
   "execution_count": 29,
   "metadata": {},
   "outputs": [
    {
     "name": "stdout",
     "output_type": "stream",
     "text": [
      "Train set shape before: (28520, 769)\n",
      "Null value counts of the features\n",
      "feature_1      0\n",
      "feature_2      0\n",
      "feature_3      0\n",
      "feature_4      0\n",
      "feature_5      0\n",
      "              ..\n",
      "feature_764    0\n",
      "feature_765    0\n",
      "feature_766    0\n",
      "feature_767    0\n",
      "feature_768    0\n",
      "Length: 768, dtype: int64\n",
      "Null value count: 480\n",
      "Train set shape after: (28040, 769)\n"
     ]
    },
    {
     "data": {
      "image/png": "[encoded data removed]",
      "text/plain": [
       "<Figure size 1800x300 with 1 Axes>"
      ]
     },
     "metadata": {},
     "output_type": "display_data"
    }
   ],
   "source": [
    "train_data_label2 = clean_null_labels(train_data_label2, 2)\n",
    "train_data_label2, valid_data_label2, test_data = fill_null_features(train_data_label2, valid_data_label2, test_data)\n",
    "train_features_label2, train_label2, valid_features_label2, valid_label2, test_features_label2 = split_features_labels(train_data_label2, valid_data_label2, test_data, 2)\n",
    "plot_label(train_label2, 2)"
   ]
  },
  {
   "cell_type": "code",
   "execution_count": 30,
   "metadata": {},
   "outputs": [],
   "source": [
    "standardized_train_features_label2, standardized_valid_features_label2, standardized_test_features_label2 = standardize_data(2, train_features_label2, valid_features_label2, test_features_label2, StandardScaler())"
   ]
  },
  {
   "cell_type": "code",
   "execution_count": 31,
   "metadata": {},
   "outputs": [
    {
     "data": {
      "image/png": "[encoded data removed]",
      "text/plain": [
       "<Figure size 1800x1000 with 1 Axes>"
      ]
     },
     "metadata": {},
     "output_type": "display_data"
    },
    {
     "name": "stdout",
     "output_type": "stream",
     "text": [
      "\n",
      "Reduced Train feature matrix shape: (28040, 281)\n",
      "Reduced valid feature matrix shape: (750, 281)\n",
      "Reduced test feature matrix shape: (750, 281)\n"
     ]
    }
   ],
   "source": [
    "pca_train_features_label2, pca_valid_features_label2, pca_test_features_label2 = apply_PCA(2, standardized_train_features_label2, standardized_valid_features_label2, standardized_test_features_label2, 0.99)"
   ]
  },
  {
   "cell_type": "code",
   "execution_count": 32,
   "metadata": {},
   "outputs": [],
   "source": [
    "# svm_grid_params, knn_grid_params, random_forest_grid_params = get_hyper_params()\n",
    "# tune_hyper_params(svm_grid_params, knn_grid_params, random_forest_grid_params, pca_train_features_label2, train_label2, rand=True)"
   ]
  },
  {
   "cell_type": "code",
   "execution_count": 33,
   "metadata": {},
   "outputs": [
    {
     "name": "stdout",
     "output_type": "stream",
     "text": [
      "SVM is training for 768 number of features\n",
      "\n"
     ]
    }
   ],
   "source": [
    "model2 = train_model(2, standardized_train_features_label2, train_label2, standardized_valid_features_label2, valid_label2, SVC(C=100, gamma=0.001, kernel='rbf', class_weight='balanced'))"
   ]
  },
  {
   "cell_type": "code",
   "execution_count": 34,
   "metadata": {},
   "outputs": [],
   "source": [
    "y_pred_test_label2 = get_test_result(standardized_train_features_label2, train_label2, standardized_test_features_label2, model2[0])"
   ]
  },
  {
   "cell_type": "code",
   "execution_count": null,
   "metadata": {},
   "outputs": [],
   "source": [
    "destination = '/home/dakshina/Documents/MLProject/results/2.csv'\n",
    "\n",
    "create_csv(test_IDs, y_pred_test_label2, destination)"
   ]
  },
  {
   "cell_type": "markdown",
   "metadata": {},
   "source": [
    "# Label 03"
   ]
  },
  {
   "cell_type": "code",
   "execution_count": 35,
   "metadata": {},
   "outputs": [
    {
     "name": "stdout",
     "output_type": "stream",
     "text": [
      "Train set shape before: (28520, 769)\n",
      "Null value counts of the features\n",
      "feature_1      0\n",
      "feature_2      0\n",
      "feature_3      0\n",
      "feature_4      0\n",
      "feature_5      0\n",
      "              ..\n",
      "feature_764    0\n",
      "feature_765    0\n",
      "feature_766    0\n",
      "feature_767    0\n",
      "feature_768    0\n",
      "Length: 768, dtype: int64\n",
      "Null value count: 0\n",
      "Train set shape after: (28520, 769)\n"
     ]
    },
    {
     "data": {
      "image/png": "[encoded data removed]",
      "text/plain": [
       "<Figure size 1800x300 with 1 Axes>"
      ]
     },
     "metadata": {},
     "output_type": "display_data"
    }
   ],
   "source": [
    "train_data_label3 = clean_null_labels(train_data_label3, 3)\n",
    "train_data_label3, valid_data_label3, test_data = fill_null_features(train_data_label3, valid_data_label3, test_data)\n",
    "train_features_label3, train_label3, valid_features_label3, valid_label3, test_features_label3 = split_features_labels(train_data_label3, valid_data_label3, test_data, 3)\n",
    "plot_label(train_label3, 3)"
   ]
  },
  {
   "cell_type": "code",
   "execution_count": 36,
   "metadata": {},
   "outputs": [],
   "source": [
    "standardized_train_features_label3, standardized_valid_features_label3, standardized_test_features_label3 = standardize_data(3, train_features_label3, valid_features_label3, test_features_label3, StandardScaler())"
   ]
  },
  {
   "cell_type": "code",
   "execution_count": 37,
   "metadata": {},
   "outputs": [
    {
     "data": {
      "image/png": "[encoded data removed]",
      "text/plain": [
       "<Figure size 1800x1000 with 1 Axes>"
      ]
     },
     "metadata": {},
     "output_type": "display_data"
    },
    {
     "name": "stdout",
     "output_type": "stream",
     "text": [
      "\n",
      "Reduced Train feature matrix shape: (28520, 282)\n",
      "Reduced valid feature matrix shape: (750, 282)\n",
      "Reduced test feature matrix shape: (750, 282)\n"
     ]
    }
   ],
   "source": [
    "pca_train_features_label3, pca_valid_features_label3, pca_test_features_label3 = apply_PCA(3, standardized_train_features_label3, standardized_valid_features_label3, standardized_test_features_label3, 0.99)"
   ]
  },
  {
   "cell_type": "code",
   "execution_count": 38,
   "metadata": {},
   "outputs": [],
   "source": [
    "# svm_grid_params, knn_grid_params, random_forest_grid_params = get_hyper_params()\n",
    "# tune_hyper_params(svm_grid_params, knn_grid_params, random_forest_grid_params, pca_train_features_label3, train_label3, rand=True)"
   ]
  },
  {
   "cell_type": "code",
   "execution_count": 39,
   "metadata": {},
   "outputs": [
    {
     "name": "stdout",
     "output_type": "stream",
     "text": [
      "SVM is training for 768 number of features\n",
      "\n"
     ]
    }
   ],
   "source": [
    "model3 = train_model(3, standardized_train_features_label3, train_label3, standardized_valid_features_label3, valid_label3, SVC(C=100, gamma=0.001, kernel='rbf', class_weight='balanced'))"
   ]
  },
  {
   "cell_type": "code",
   "execution_count": 40,
   "metadata": {},
   "outputs": [],
   "source": [
    "y_pred_test_label3 = get_test_result(standardized_train_features_label3, train_label3, standardized_test_features_label3, model3[0])"
   ]
  },
  {
   "cell_type": "code",
   "execution_count": null,
   "metadata": {},
   "outputs": [],
   "source": [
    "destination = '/home/dakshina/Documents/MLProject/results/3.csv'\n",
    "\n",
    "create_csv(test_IDs, y_pred_test_label3, destination)"
   ]
  },
  {
   "cell_type": "markdown",
   "metadata": {},
   "source": [
    "# Label 04"
   ]
  },
  {
   "cell_type": "code",
   "execution_count": 41,
   "metadata": {},
   "outputs": [
    {
     "name": "stdout",
     "output_type": "stream",
     "text": [
      "Train set shape before: (28520, 769)\n",
      "Null value counts of the features\n",
      "feature_1      0\n",
      "feature_2      0\n",
      "feature_3      0\n",
      "feature_4      0\n",
      "feature_5      0\n",
      "              ..\n",
      "feature_764    0\n",
      "feature_765    0\n",
      "feature_766    0\n",
      "feature_767    0\n",
      "feature_768    0\n",
      "Length: 768, dtype: int64\n",
      "Null value count: 0\n",
      "Train set shape after: (28520, 769)\n"
     ]
    },
    {
     "data": {
      "image/png": "[encoded data removed]",
      "text/plain": [
       "<Figure size 1800x300 with 1 Axes>"
      ]
     },
     "metadata": {},
     "output_type": "display_data"
    }
   ],
   "source": [
    "train_data_label4 = clean_null_labels(train_data_label4, 4)\n",
    "train_data_label4, valid_data_label4, test_data = fill_null_features(train_data_label4, valid_data_label4, test_data)\n",
    "train_features_label4, train_label4, valid_features_label4, valid_label4, test_features_label4 = split_features_labels(train_data_label4, valid_data_label4, test_data, 4)\n",
    "plot_label(train_label4, 4)"
   ]
  },
  {
   "cell_type": "code",
   "execution_count": 42,
   "metadata": {},
   "outputs": [],
   "source": [
    "standardized_train_features_label4, standardized_valid_features_label4, standardized_test_features_label4 = standardize_data(4, train_features_label4, valid_features_label4, test_features_label4, StandardScaler())"
   ]
  },
  {
   "cell_type": "code",
   "execution_count": 43,
   "metadata": {},
   "outputs": [
    {
     "data": {
      "image/png": "[encoded data removed]",
      "text/plain": [
       "<Figure size 1800x1000 with 1 Axes>"
      ]
     },
     "metadata": {},
     "output_type": "display_data"
    },
    {
     "name": "stdout",
     "output_type": "stream",
     "text": [
      "\n",
      "Reduced Train feature matrix shape: (28520, 282)\n",
      "Reduced valid feature matrix shape: (750, 282)\n",
      "Reduced test feature matrix shape: (750, 282)\n"
     ]
    }
   ],
   "source": [
    "pca_train_features_label4, pca_valid_features_label4, pca_test_features_label4 = apply_PCA(4, standardized_train_features_label4, standardized_valid_features_label4, standardized_test_features_label4, 0.99)"
   ]
  },
  {
   "cell_type": "code",
   "execution_count": 44,
   "metadata": {},
   "outputs": [],
   "source": [
    "# svm_grid_params, knn_grid_params, random_forest_grid_params = get_hyper_params()\n",
    "# tune_hyper_params(svm_grid_params, knn_grid_params, random_forest_grid_params, pca_train_features_label4, train_label4, rand=True)"
   ]
  },
  {
   "cell_type": "code",
   "execution_count": 45,
   "metadata": {},
   "outputs": [
    {
     "name": "stdout",
     "output_type": "stream",
     "text": [
      "SVM is training for 768 number of features\n",
      "\n"
     ]
    }
   ],
   "source": [
    "model4 = train_model(4, standardized_train_features_label4, train_label4, standardized_valid_features_label4, valid_label4, SVC(C=100, gamma=0.001, kernel='rbf', class_weight='balanced'))"
   ]
  },
  {
   "cell_type": "code",
   "execution_count": null,
   "metadata": {},
   "outputs": [],
   "source": [
    "y_pred_test_label4 = get_test_result(standardized_train_features_label4, train_label4, standardized_test_features_label4, model4[0])"
   ]
  },
  {
   "cell_type": "code",
   "execution_count": null,
   "metadata": {},
   "outputs": [],
   "source": []
  },
  {
   "cell_type": "code",
   "execution_count": null,
   "metadata": {},
   "outputs": [],
   "source": []
  },
  {
   "cell_type": "code",
   "execution_count": null,
   "metadata": {
    "id": "OjhU-Lvp6b4B"
   },
   "outputs": [],
   "source": [
    "# Check for null values in train dataset\n",
    "print(f\"train_data_label3 shape before : {train_data_label3.shape}\")\n",
    "train_null_counts = train_data_label3.isnull().sum()\n",
    "print(f\"train null counts before : \\n{train_null_counts}\")\n",
    "\n",
    "# Drop rows with null values in the target labels for train dataset\n",
    "train_data_label3 = train_data_label3.dropna(subset=train_data_label3.columns[-1:], how='any')\n",
    "print(f\"train_data_label3 shape after : {train_data_label3.shape}\")"
   ]
  },
  {
   "cell_type": "code",
   "execution_count": null,
   "metadata": {},
   "outputs": [],
   "source": [
    "# Fill null values with mean in train dataset\n",
    "train_data_label2 = train_data_label2.fillna(train_data_label2.mean())\n",
    "\n",
    "# Fill null values with mean in valid dataset\n",
    "valid_data_label2 = valid_data_label2.fillna(valid_data_label2.mean())\n",
    "\n",
    "# Fill null values with mean in test dataset\n",
    "test_data = test_data.fillna(test_data.mean())"
   ]
  },
  {
   "cell_type": "code",
   "execution_count": null,
   "metadata": {},
   "outputs": [],
   "source": [
    "train_features_label2 = train_data_label2.iloc[:, :-1]\n",
    "train_label2 = train_data_label2.iloc[:, -1].astype('int64')\n",
    "\n",
    "valid_features_label2 = valid_data_label2.iloc[:, :-1]\n",
    "valid_label2 = valid_data_label2.iloc[:, -1].astype('int64')\n",
    "\n",
    "test_features_label2 = test_data"
   ]
  },
  {
   "cell_type": "code",
   "execution_count": null,
   "metadata": {},
   "outputs": [],
   "source": [
    "# Plotting the distribution of train_label2\n",
    "labels, counts = np.unique(train_label2, return_counts=True)\n",
    "\n",
    "plt.figure(figsize=(22, 6))\n",
    "plt.xticks(labels)\n",
    "plt.bar(labels, counts)\n",
    "plt.xlabel('Target Label 2')\n",
    "plt.ylabel('Frequency')\n",
    "plt.title('Distribution of Target Label 2')\n",
    "plt.show()"
   ]
  },
  {
   "cell_type": "code",
   "execution_count": null,
   "metadata": {},
   "outputs": [],
   "source": [
    "# # Create an instance of the RandomOverSampler\n",
    "# over_sampler = RandomOverSampler(sampling_strategy='auto', random_state=42)\n",
    "\n",
    "# # Create an instance of the RandomUnderSampler\n",
    "# under_sampler = RandomUnderSampler(sampling_strategy='auto', random_state=42)\n",
    "\n",
    "# # Create a pipeline that first applies over-sampling and then under-sampling\n",
    "# sampling_pipeline = Pipeline([\n",
    "#     ('over_sampling', over_sampler),\n",
    "#     ('under_sampling', under_sampler)\n",
    "# ])\n",
    "\n",
    "# train_features_label2, train_label2 = sampling_pipeline.fit_resample(train_features_label2, train_label2)"
   ]
  },
  {
   "cell_type": "code",
   "execution_count": null,
   "metadata": {},
   "outputs": [],
   "source": [
    "# Plotting the distribution of train_label2\n",
    "labels, counts = np.unique(train_label2, return_counts=True)\n",
    "\n",
    "plt.figure(figsize=(22, 6))\n",
    "plt.xticks(labels)\n",
    "plt.bar(labels, counts)\n",
    "plt.xlabel('Target Label 2')\n",
    "plt.ylabel('Frequency')\n",
    "plt.title('Distribution of Target Label 2')\n",
    "plt.show()"
   ]
  },
  {
   "cell_type": "code",
   "execution_count": null,
   "metadata": {},
   "outputs": [],
   "source": [
    "# Standardize the features\n",
    "scaler = RobustScaler()\n",
    "standardized_train_features_label2 = scaler.fit_transform(train_features_label2)\n",
    "standardized_valid_features_label2 = scaler.transform(valid_features_label2)\n",
    "standardized_test_features_label2 = scaler.transform(test_features_label2)"
   ]
  },
  {
   "cell_type": "code",
   "execution_count": null,
   "metadata": {},
   "outputs": [],
   "source": [
    "variance_threshold = 0.98\n",
    "\n",
    "# Apply PCA with the determined number of components\n",
    "pca = PCA(n_components=variance_threshold, svd_solver='full')\n",
    "\n",
    "pca_train_features_label2 = pca.fit_transform(standardized_train_features_label2)\n",
    "pca_valid_features_label2 = pca.transform(standardized_valid_features_label2)\n",
    "pca_test_features_label2 = pca.transform(standardized_test_features_label2)\n",
    "\n",
    "# Explained variance ratio after dimensionality reduction\n",
    "explained_variance_ratio_reduced = pca.explained_variance_ratio_\n",
    "\n",
    "# Plot explained variance ratio\n",
    "plt.figure(figsize=(18, 10))\n",
    "plt.bar(range(1, pca_train_features_label2.shape[1] + 1), explained_variance_ratio_reduced)\n",
    "plt.xlabel('Principal Component')\n",
    "plt.ylabel('Explained Variance Ratio')\n",
    "plt.title('Explained Variance Ratio per Principal Component (Reduced)')\n",
    "plt.show()\n",
    "\n",
    "# Display the reduced train feature matrix\n",
    "print(\"Reduced Train feature matrix shape: {}\".format(pca_train_features_label2.shape))\n",
    "# Display the reduced valid feature matrix\n",
    "print(\"Reduced valid feature matrix shape: {}\".format(pca_valid_features_label2.shape))\n",
    "# Display the reduced test feature matrix\n",
    "print(\"Reduced test feature matrix shape: {}\".format(pca_test_features_label2.shape))"
   ]
  },
  {
   "cell_type": "code",
   "execution_count": null,
   "metadata": {},
   "outputs": [],
   "source": [
    "#Calculate the correlation matrix\n",
    "correlation_matrix = pd.DataFrame(pca_train_features_label2).corr()\n",
    "\n",
    "mask = np.triu(np.ones_like(correlation_matrix))\n",
    "\n",
    "# Create a heatmap of the correlation matrix using seaborn\n",
    "plt.figure(figsize=(12, 12))\n",
    "sns.heatmap(correlation_matrix, cmap='coolwarm', center=0, mask=mask)\n",
    "plt.title(\"Correlation Matrix\")\n",
    "plt.show()"
   ]
  },
  {
   "cell_type": "code",
   "execution_count": null,
   "metadata": {},
   "outputs": [],
   "source": [
    "# Set the threshold for correlation\n",
    "correlation_threshold = 0.8\n",
    "\n",
    "highly_correlated = set()\n",
    "\n",
    "# Find highly correlated features\n",
    "for i in range(len(correlation_matrix.columns)):\n",
    "    for j in range(i):\n",
    "        if abs(correlation_matrix.iloc[i, j]) > correlation_threshold:\n",
    "            colname = correlation_matrix.columns[i]\n",
    "            highly_correlated.add(colname)\n",
    "\n",
    "print(highly_correlated)"
   ]
  },
  {
   "cell_type": "code",
   "execution_count": null,
   "metadata": {},
   "outputs": [],
   "source": [
    "# Remove highly correlated features\n",
    "pca_train_features_label2 = pd.DataFrame(pca_train_features_label2).drop(columns=highly_correlated)\n",
    "pca_valid_features_label2 = pd.DataFrame(pca_valid_features_label2).drop(columns=highly_correlated)\n",
    "pca_test_features_label2 = pd.DataFrame(pca_test_features_label2).drop(columns=highly_correlated)"
   ]
  },
  {
   "cell_type": "code",
   "execution_count": null,
   "metadata": {},
   "outputs": [],
   "source": [
    "# Display the filtered train feature count\n",
    "print(\"Filtered train features: {}\".format(pca_train_features_label2.shape))\n",
    "\n",
    "# Display the filtered valid feature count\n",
    "print(\"Filtered valid features: {}\".format(pca_valid_features_label2.shape))\n",
    "\n",
    "# Display the filtered test feature count\n",
    "print(\"Filtered test features: {}\".format(pca_test_features_label2.shape))"
   ]
  },
  {
   "cell_type": "code",
   "execution_count": null,
   "metadata": {},
   "outputs": [],
   "source": [
    "# Calculate the correlation matrix between features and train_label1\n",
    "correlation_with_target = pca_train_features_label2.corrwith(train_label2)\n",
    "\n",
    "# Set the correlation threshold\n",
    "correlation_threshold = 0.005\n",
    "\n",
    "# Select features that meet the correlation threshold\n",
    "highly_correlated_features = correlation_with_target[correlation_with_target.abs() > correlation_threshold]\n",
    "\n",
    "print(highly_correlated_features)"
   ]
  },
  {
   "cell_type": "code",
   "execution_count": null,
   "metadata": {},
   "outputs": [],
   "source": [
    "# Drop the features with low correlated in train data\n",
    "pca_train_features_label2 = pca_train_features_label2[highly_correlated_features.index]\n",
    "\n",
    "# Drop the features with low correlated in valid data\n",
    "pca_valid_features_label2 = pca_valid_features_label2[highly_correlated_features.index]\n",
    "\n",
    "# Drop the features with low correlated in test data\n",
    "pca_test_features_label2 = pca_test_features_label2[highly_correlated_features.index]"
   ]
  },
  {
   "cell_type": "code",
   "execution_count": null,
   "metadata": {},
   "outputs": [],
   "source": [
    "# Display the filtered train feature count\n",
    "print(\"Filtered train features: {}\".format(pca_train_features_label2.shape))\n",
    "\n",
    "# Display the filtered valid feature count\n",
    "print(\"Filtered valid features: {}\".format(pca_valid_features_label2.shape))\n",
    "\n",
    "# Display the filtered test feature count\n",
    "print(\"Filtered test features: {}\".format(pca_test_features_label2.shape))"
   ]
  },
  {
   "cell_type": "code",
   "execution_count": null,
   "metadata": {},
   "outputs": [],
   "source": [
    "knn_grid_params = {\n",
    "    'n_neighbors' : [3, 5, 7, 9, 11, 13],\n",
    "    'weights' : ['uniform', 'distance'],\n",
    "    'metric' : ['minkowski', 'euclidean', 'manhattan', 'hamming']\n",
    "}\n",
    "\n",
    "rf_grid_params = {\n",
    "    'bootstrap': [True, False],\n",
    "    'max_depth': [10, 20, 30, 40, 50, 60, 70, 80, 90, 100, None],\n",
    "    'max_features': ['auto', 'sqrt'],\n",
    "    'min_samples_leaf': [1, 2, 4],\n",
    "    'min_samples_split': [2, 5, 10],\n",
    "    'n_estimators': [200, 400, 600, 800, 1000, 1200, 1400, 1600, 1800, 2000]\n",
    "}\n",
    "\n",
    "svm_grid_params = {\n",
    "    'C': [0.1, 1, 10, 100, 1000],\n",
    "    'gamma': [1, 0.1, 0.01, 0.001, 0.0001],\n",
    "    'kernel': ['rbf','linear'],\n",
    "    'class_weight': ['balanced', None]\n",
    "}"
   ]
  },
  {
   "cell_type": "code",
   "execution_count": null,
   "metadata": {},
   "outputs": [],
   "source": [
    "classification_models_params = [\n",
    "#     ('K Neighbors', KNeighborsClassifier(), knn_grid_params),\n",
    "#     ('Random Forest', RandomForestClassifier(), rf_grid_params),\n",
    "    ('SVM', SVC(), svm_grid_params)\n",
    "]\n",
    "\n",
    "for model_name, model, grid_params in classification_models_params:\n",
    "    print(grid_params)\n",
    "    grid_search = HalvingGridSearchCV(\n",
    "        estimator=model,\n",
    "        param_grid=grid_params,\n",
    "        cv=3,\n",
    "        n_jobs=-1,\n",
    "        verbose=2\n",
    "    )\n",
    "#     random_search = RandomizedSearchCV(\n",
    "#         estimator = model,\n",
    "#         param_distributions = grid_params,\n",
    "#         n_iter = 100, cv = 3, verbose=2, random_state=42, n_jobs = -1\n",
    "#     )\n",
    "\n",
    "    result = grid_search.fit(pca_train_features_label2, train_label2)\n",
    "\n",
    "    print(f\"best score for {model_name} : {result.best_score_}\")\n",
    "    print(f\"best hyper parameters for {model_name} : {result.best_params_}\")"
   ]
  },
  {
   "cell_type": "code",
   "execution_count": null,
   "metadata": {},
   "outputs": [],
   "source": [
    "classification_models = [\n",
    "    # ('K Neighbors', KNeighborsClassifier(metric='minkowski', n_neighbors=5, weights='distance')),\n",
    "    # ('Random Forest', RandomForestClassifier()),\n",
    "    ('SVM', SVC(C=10, gamma=0.001, kernel='rbf', class_weight= 'balanced')),\n",
    "]\n",
    "\n",
    "# The best model is SVM then KNN then Random Forest\n",
    "\n",
    "num_features = pca_train_features_label2.shape[1]\n",
    "print(f\"SVM is training for {num_features} number of features\\n\")\n",
    "\n",
    "for model_name, model in classification_models:\n",
    "    model.fit(pca_train_features_label2, train_label2)\n",
    "\n",
    "    y_pred_train_label2 = model.predict(pca_train_features_label2)\n",
    "\n",
    "    accuracy = accuracy_score(train_label2, y_pred_train_label2)\n",
    "    precision = precision_score(train_label2, y_pred_train_label2, average='macro', zero_division=1)\n",
    "    recall = recall_score(train_label2, y_pred_train_label2, average='macro')\n",
    "\n",
    "    print(f\"Metrics for {model_name} on train data:\")\n",
    "    print(f\"Accuracy: {accuracy:.2f}\")\n",
    "    print(f\"Precision: {precision:.2f}\")\n",
    "    print(f\"Recall: {recall:.2f}\")\n",
    "    print(\"\\n\")\n",
    "\n",
    "    y_pred_valid_label2 = model.predict(pca_valid_features_label2)\n",
    "\n",
    "    accuracy = accuracy_score(valid_label2, y_pred_valid_label2)\n",
    "    precision = precision_score(valid_label2, y_pred_valid_label2, average='weighted', zero_division=1)\n",
    "    recall = recall_score(valid_label2, y_pred_valid_label2, average='weighted')\n",
    "\n",
    "    print(f\"Metrics for {model_name} on validation data:\")\n",
    "    print(f\"Accuracy: {accuracy:.4f}\")\n",
    "    print(f\"Precision: {precision:.4f}\")\n",
    "    print(f\"Recall: {recall:.4f}\")\n",
    "    print(\"\\n\")"
   ]
  },
  {
   "cell_type": "code",
   "execution_count": null,
   "metadata": {},
   "outputs": [],
   "source": [
    " y_pred_test_label2 = model.predict(pca_test_features_label2)"
   ]
  },
  {
   "cell_type": "code",
   "execution_count": null,
   "metadata": {},
   "outputs": [],
   "source": [
    "# Check for null values in train dataset\n",
    "print(f\"train_data_label3 shape before : {train_data_label3.shape}\")\n",
    "train_null_counts = train_data_label3.isnull().sum()\n",
    "print(f\"train null counts before : \\n{train_null_counts}\")\n",
    "\n",
    "# Drop rows with null values in the target labels for train dataset\n",
    "train_data_label3 = train_data_label3.dropna(subset=train_data_label3.columns[-1:], how='any')\n",
    "print(f\"train_data_label3 shape after : {train_data_label3.shape}\")"
   ]
  },
  {
   "cell_type": "code",
   "execution_count": null,
   "metadata": {},
   "outputs": [],
   "source": [
    "# Fill null values with mean in train dataset\n",
    "train_data_label3 = train_data_label3.fillna(train_data_label3.mean())\n",
    "\n",
    "# Fill null values with mean in valid dataset\n",
    "valid_data_label3 = valid_data_label3.fillna(valid_data_label3.mean())\n",
    "\n",
    "# Fill null values with mean in test dataset\n",
    "test_data = test_data.fillna(test_data.mean())"
   ]
  },
  {
   "cell_type": "code",
   "execution_count": null,
   "metadata": {},
   "outputs": [],
   "source": [
    "train_features_label3 = train_data_label3.iloc[:, :-1]\n",
    "train_label3 = train_data_label3.iloc[:, -1]\n",
    "\n",
    "valid_features_label3 = valid_data_label3.iloc[:, :-1]\n",
    "valid_label3 = valid_data_label3.iloc[:, -1]\n",
    "\n",
    "test_features_label3 = test_data"
   ]
  },
  {
   "cell_type": "code",
   "execution_count": null,
   "metadata": {},
   "outputs": [],
   "source": [
    "labels, counts = np.unique(train_label3, return_counts=True)\n",
    "\n",
    "plt.figure(figsize=(22, 6))\n",
    "plt.xticks(labels)\n",
    "plt.bar(labels, counts)\n",
    "plt.xlabel('Target Label 3')\n",
    "plt.ylabel('Frequency')\n",
    "plt.title('Distribution of Target Label 3')\n",
    "plt.show()"
   ]
  },
  {
   "cell_type": "code",
   "execution_count": null,
   "metadata": {},
   "outputs": [],
   "source": [
    "# Create an instance of the RandomOverSampler\n",
    "over_sampler = RandomOverSampler(sampling_strategy=0.5, random_state=42)\n",
    "\n",
    "# Create an instance of the RandomUnderSampler\n",
    "under_sampler = RandomUnderSampler(sampling_strategy=0.5, random_state=42)\n",
    "\n",
    "# Create a pipeline that first applies over-sampling and then under-sampling\n",
    "sampling_pipeline = Pipeline([\n",
    "    # ('over_sampling', over_sampler),\n",
    "    ('under_sampling', under_sampler)\n",
    "])\n",
    "\n",
    "train_features_label3, train_label3 = sampling_pipeline.fit_resample(train_features_label3, train_label3)"
   ]
  },
  {
   "cell_type": "code",
   "execution_count": null,
   "metadata": {},
   "outputs": [],
   "source": [
    "# Standardize the features\n",
    "scaler = RobustScaler()\n",
    "standardized_train_features_label3 = scaler.fit_transform(train_features_label3)\n",
    "standardized_valid_features_label3 = scaler.transform(valid_features_label3)\n",
    "standardized_test_features_label3 = scaler.transform(test_features_label3)"
   ]
  },
  {
   "cell_type": "code",
   "execution_count": null,
   "metadata": {},
   "outputs": [],
   "source": [
    "variance_threshold = 0.97\n",
    "\n",
    "# Apply PCA with the determined number of components\n",
    "pca = PCA(n_components=variance_threshold, svd_solver='full')\n",
    "\n",
    "pca_train_features_label3 = pca.fit_transform(standardized_train_features_label3)\n",
    "pca_valid_features_label3 = pca.transform(standardized_valid_features_label3)\n",
    "pca_test_features_label3 = pca.transform(standardized_test_features_label3)\n",
    "\n",
    "# Explained variance ratio after dimensionality reduction\n",
    "explained_variance_ratio_reduced = pca.explained_variance_ratio_\n",
    "\n",
    "# Plot explained variance ratio\n",
    "plt.figure(figsize=(18, 10))\n",
    "plt.bar(range(1, pca_train_features_label3.shape[1] + 1), explained_variance_ratio_reduced)\n",
    "plt.xlabel('Principal Component')\n",
    "plt.ylabel('Explained Variance Ratio')\n",
    "plt.title('Explained Variance Ratio per Principal Component (Reduced)')\n",
    "plt.show()\n",
    "\n",
    "# Display the reduced train feature matrix\n",
    "print(\"Reduced Train feature matrix shape: {}\".format(pca_train_features_label3.shape))\n",
    "# Display the reduced valid feature matrix\n",
    "print(\"Reduced valid feature matrix shape: {}\".format(pca_valid_features_label3.shape))\n",
    "# Display the reduced test feature matrix\n",
    "print(\"Reduced test feature matrix shape: {}\".format(pca_test_features_label3.shape))"
   ]
  },
  {
   "cell_type": "code",
   "execution_count": null,
   "metadata": {},
   "outputs": [],
   "source": [
    "knn_grid_params = {\n",
    "    'n_neighbors' : [3, 5, 7],\n",
    "    'weights' : ['uniform', 'distance'],\n",
    "    'metric' : ['minkowski', 'euclidean', 'manhattan']\n",
    "}\n",
    "\n",
    "rf_grid_params = {\n",
    "    'bootstrap': [True, False],\n",
    "    'max_depth': [10, 20, 30, 40, 50, 60, 70, 80, 90, 100, None],\n",
    "    'max_features': ['auto', 'sqrt'],\n",
    "    'min_samples_leaf': [1, 2, 4],\n",
    "    'min_samples_split': [2, 5, 10],\n",
    "    'n_estimators': [200, 400, 600, 800, 1000, 1200, 1400, 1600, 1800, 2000]\n",
    "}\n",
    "\n",
    "svm_grid_params = {\n",
    "    'C': [0.1, 1, 10],\n",
    "    'gamma': [0.1, 0.01, 0.001],\n",
    "    'kernel': ['rbf','linear']\n",
    "}"
   ]
  },
  {
   "cell_type": "code",
   "execution_count": null,
   "metadata": {},
   "outputs": [],
   "source": [
    "classification_models_params = [\n",
    "#     ('K Neighbors', KNeighborsClassifier(), knn_grid_params),\n",
    "#     ('Random Forest', RandomForestClassifier(), rf_grid_params),\n",
    "    ('SVM', SVC(), svm_grid_params)\n",
    "]\n",
    "\n",
    "for model_name, model, grid_params in classification_models_params:\n",
    "    grid_search = HalvingGridSearchCV(\n",
    "        estimator=model,\n",
    "        param_grid=grid_params,\n",
    "        cv=3,\n",
    "        n_jobs=-1,\n",
    "        verbose=2\n",
    "    )\n",
    "#     random_search = RandomizedSearchCV(\n",
    "#         estimator = model,\n",
    "#         param_distributions = grid_params,\n",
    "#         n_iter = 100, cv = 3, verbose=2, random_state=42, n_jobs = -1\n",
    "#     )\n",
    "\n",
    "    result = grid_search.fit(pca_train_features_label3, train_label3)\n",
    "\n",
    "    print(f\"best score for {model_name} : {result.best_score_}\")\n",
    "    print(f\"best hyper parameters for {model_name} : {result.best_params_}\")"
   ]
  },
  {
   "cell_type": "code",
   "execution_count": null,
   "metadata": {},
   "outputs": [],
   "source": [
    "classification_models = [\n",
    "    ('K Neighbors', KNeighborsClassifier()),\n",
    "    ('Random Forest', RandomForestClassifier()),\n",
    "    ('SVM', SVC()),\n",
    "]\n",
    "\n",
    "# The best model is SVM then KNN then Random Forest\n",
    "\n",
    "# Number of features used in PCA\n",
    "num_features = pca_train_features_label3.shape[1]\n",
    "print(f\"Number of features: {num_features}\\n\")\n",
    "\n",
    "# Train and evaluate each classification model\n",
    "for model_name, model in classification_models:\n",
    "    # Train the model on the training data\n",
    "    model.fit(pca_train_features_label3, train_label3)\n",
    "\n",
    "    # Predict on the train data\n",
    "    y_pred_train_label3 = model.predict(pca_train_features_label3)\n",
    "\n",
    "    # Calculate metrics for classification evaluation\n",
    "    accuracy = accuracy_score(train_label3, y_pred_train_label3)\n",
    "    precision = precision_score(train_label3, y_pred_train_label3, average='macro', zero_division=1)\n",
    "    recall = recall_score(train_label3, y_pred_train_label3, average='macro')\n",
    "\n",
    "    print(f\"Metrics for {model_name} on train data:\")\n",
    "    print(f\"Accuracy: {accuracy:.2f}\")\n",
    "    print(f\"Precision: {precision:.2f}\")\n",
    "    print(f\"Recall: {recall:.2f}\")\n",
    "    print(\"\\n\")\n",
    "\n",
    "    # Predict on the validation data\n",
    "    y_pred_valid_label3 = model.predict(pca_valid_features_label3)\n",
    "\n",
    "    # Calculate metrics for classification evaluation on validation data\n",
    "    accuracy = accuracy_score(valid_label3, y_pred_valid_label3)\n",
    "    precision = precision_score(valid_label3, y_pred_valid_label3, average='macro', zero_division=1)\n",
    "    recall = recall_score(valid_label3, y_pred_valid_label3, average='macro')\n",
    "\n",
    "    print(f\"Metrics for {model_name} on validation data:\")\n",
    "    print(f\"Accuracy: {accuracy:.2f}\")\n",
    "    print(f\"Precision: {precision:.2f}\")\n",
    "    print(f\"Recall: {recall:.2f}\")\n",
    "    print(\"\\n\")\n",
    "\n",
    "    # Predict on the test data\n",
    "    y_pred_test_label3 = model.predict(pca_test_features_label3)"
   ]
  },
  {
   "cell_type": "code",
   "execution_count": null,
   "metadata": {},
   "outputs": [],
   "source": [
    "# Check for null values in train dataset\n",
    "print(f\"train_data_label4 shape before : {train_data_label4.shape}\")\n",
    "train_null_counts = train_data_label4.isnull().sum()\n",
    "print(f\"train null counts before : \\n{train_null_counts}\")\n",
    "\n",
    "# Drop rows with null values in the target labels for train dataset\n",
    "train_data_label4 = train_data_label4.dropna(subset=train_data_label4.columns[-1:], how='any')\n",
    "print(f\"train_data_label4 shape after : {train_data_label4.shape}\")"
   ]
  },
  {
   "cell_type": "code",
   "execution_count": null,
   "metadata": {},
   "outputs": [],
   "source": [
    "# Fill null values with mean in train dataset\n",
    "train_data_label4 = train_data_label4.fillna(train_data_label4.mean())\n",
    "\n",
    "# Fill null values with mean in valid dataset\n",
    "valid_data_label4 = valid_data_label4.fillna(valid_data_label4.mean())\n",
    "\n",
    "# Fill null values with mean in test dataset\n",
    "test_data = test_data.fillna(test_data.mean())"
   ]
  },
  {
   "cell_type": "code",
   "execution_count": null,
   "metadata": {},
   "outputs": [],
   "source": [
    "train_features_label4 = train_data_label4.iloc[:, :-1]\n",
    "train_label4 = train_data_label4.iloc[:, -1]\n",
    "\n",
    "valid_features_label4 = valid_data_label4.iloc[:, :-1]\n",
    "valid_label4 = valid_data_label4.iloc[:, -1]\n",
    "\n",
    "test_features_label4 = test_data"
   ]
  },
  {
   "cell_type": "code",
   "execution_count": null,
   "metadata": {},
   "outputs": [],
   "source": [
    "labels, counts = np.unique(train_label4, return_counts=True)\n",
    "\n",
    "plt.figure(figsize=(22, 6))\n",
    "plt.xticks(labels)\n",
    "plt.bar(labels, counts)\n",
    "plt.xlabel('Target Label 4')\n",
    "plt.ylabel('Frequency')\n",
    "plt.title('Distribution of Target Label 4')\n",
    "plt.show()"
   ]
  },
  {
   "cell_type": "code",
   "execution_count": null,
   "metadata": {},
   "outputs": [],
   "source": [
    "over_sampler = RandomOverSampler(sampling_strategy='auto', random_state=42)\n",
    "\n",
    "# Create an instance of the RandomUnderSampler\n",
    "under_sampler = RandomUnderSampler(sampling_strategy='auto', random_state=42)\n",
    "\n",
    "# Create a pipeline that first applies over-sampling and then under-sampling\n",
    "sampling_pipeline = Pipeline([\n",
    "    ('over_sampling', over_sampler),\n",
    "    ('under_sampling', under_sampler)\n",
    "])\n",
    "\n",
    "train_features_label4, train_label4 = sampling_pipeline.fit_resample(train_features_label4, train_label4)"
   ]
  },
  {
   "cell_type": "code",
   "execution_count": null,
   "metadata": {},
   "outputs": [],
   "source": [
    "scaler = RobustScaler()\n",
    "standardized_train_features_label4 = scaler.fit_transform(train_features_label4)\n",
    "standardized_valid_features_label4 = scaler.transform(valid_features_label4)\n",
    "standardized_test_features_label4 = scaler.transform(test_features_label4)"
   ]
  },
  {
   "cell_type": "code",
   "execution_count": null,
   "metadata": {},
   "outputs": [],
   "source": [
    "variance_threshold = 0.97\n",
    "\n",
    "# Apply PCA with the determined number of components\n",
    "pca = PCA(n_components=variance_threshold, svd_solver='full')\n",
    "\n",
    "pca_train_features_label4 = pca.fit_transform(standardized_train_features_label4)\n",
    "pca_valid_features_label4 = pca.transform(standardized_valid_features_label4)\n",
    "pca_test_features_label4 = pca.transform(standardized_test_features_label4)\n",
    "\n",
    "# Explained variance ratio after dimensionality reduction\n",
    "explained_variance_ratio_reduced = pca.explained_variance_ratio_\n",
    "\n",
    "# Plot explained variance ratio\n",
    "plt.figure(figsize=(18, 10))\n",
    "plt.bar(range(1, pca_train_features_label4.shape[1] + 1), explained_variance_ratio_reduced)\n",
    "plt.xlabel('Principal Component')\n",
    "plt.ylabel('Explained Variance Ratio')\n",
    "plt.title('Explained Variance Ratio per Principal Component (Reduced)')\n",
    "plt.show()\n",
    "\n",
    "# Display the reduced train feature matrix\n",
    "print(\"Reduced Train feature matrix shape: {}\".format(pca_train_features_label4.shape))\n",
    "# Display the reduced valid feature matrix\n",
    "print(\"Reduced valid feature matrix shape: {}\".format(pca_valid_features_label4.shape))\n",
    "# Display the reduced test feature matrix\n",
    "print(\"Reduced test feature matrix shape: {}\".format(pca_test_features_label4.shape))"
   ]
  },
  {
   "cell_type": "code",
   "execution_count": null,
   "metadata": {},
   "outputs": [],
   "source": [
    "knn_grid_params = {\n",
    "    'n_neighbors' : [3, 5, 7, 9, 11, 13],\n",
    "    'weights' : ['uniform', 'distance'],\n",
    "    'metric' : ['minkowski', 'euclidean', 'manhattan', 'hamming']\n",
    "}\n",
    "\n",
    "rf_grid_params = {\n",
    "    'bootstrap': [True, False],\n",
    "    'max_depth': [10, 20, 30, 40, 50, 60, 70, 80, 90, 100, None],\n",
    "    'max_features': ['auto', 'sqrt'],\n",
    "    'min_samples_leaf': [1, 2, 4],\n",
    "    'min_samples_split': [2, 5, 10],\n",
    "    'n_estimators': [200, 400, 600, 800, 1000, 1200, 1400, 1600, 1800, 2000]\n",
    "}\n",
    "\n",
    "svm_grid_params = {\n",
    "    'C': [0.1, 1, 10, 100, 1000],\n",
    "    'gamma': [1, 0.1, 0.01, 0.001, 0.0001],\n",
    "    'kernel': ['rbf','linear']\n",
    "}"
   ]
  },
  {
   "cell_type": "code",
   "execution_count": null,
   "metadata": {},
   "outputs": [],
   "source": [
    "classification_models_params = [\n",
    "#     ('K Neighbors', KNeighborsClassifier(), knn_grid_params),\n",
    "#     ('Random Forest', RandomForestClassifier(), rf_grid_params),\n",
    "    ('SVM', SVC(), svm_grid_params)\n",
    "]\n",
    "\n",
    "for model_name, model, grid_params in classification_models_params:\n",
    "    grid_search = HalvingGridSearchCV(\n",
    "        estimator=model,\n",
    "        param_grid=grid_params,\n",
    "        cv=3,\n",
    "        n_jobs=-1,\n",
    "        verbose=2\n",
    "    )\n",
    "#     random_search = RandomizedSearchCV(\n",
    "#         estimator = model,\n",
    "#         param_distributions = grid_params,\n",
    "#         n_iter = 100, cv = 3, verbose=2, random_state=42, n_jobs = -1\n",
    "#     )\n",
    "\n",
    "    result = grid_search.fit(pca_train_features_label4, train_label4)\n",
    "\n",
    "    print(f\"best score for {model_name} : {result.best_score_}\")\n",
    "    print(f\"best hyper parameters for {model_name} : {result.best_params_}\")"
   ]
  },
  {
   "cell_type": "code",
   "execution_count": null,
   "metadata": {},
   "outputs": [],
   "source": [
    "classification_models = [\n",
    "    # ('K Neighbors', KNeighborsClassifier(n_neighbors=5, metric='minkowski', weights='distance')),\n",
    "    # ('Random Forest', RandomForestClassifier()),\n",
    "    # ('SVM', SVC(C=10, gamma=0.001, kernel='rbf')),\n",
    "]\n",
    "\n",
    "# The best model is SVM then KNN then Random Forest\n",
    "\n",
    "# Number of features used in PCA\n",
    "num_features = pca_train_features_label4.shape[1]\n",
    "print(f\"Number of features: {num_features}\\n\")\n",
    "\n",
    "# Train and evaluate each classification model\n",
    "for model_name, model in classification_models:\n",
    "    # Train the model on the training data\n",
    "    model.fit(pca_train_features_label4, train_label4)\n",
    "\n",
    "    # Predict on the train data\n",
    "    y_pred_train_label4 = model.predict(pca_train_features_label4)\n",
    "\n",
    "    # Calculate metrics for classification evaluation\n",
    "    accuracy = accuracy_score(train_label4, y_pred_train_label4)\n",
    "    precision = precision_score(train_label4, y_pred_train_label4, average='macro', zero_division=1)\n",
    "    recall = recall_score(train_label4, y_pred_train_label4, average='macro')\n",
    "\n",
    "    print(f\"Metrics for {model_name} on train data:\")\n",
    "    print(f\"Accuracy: {accuracy:.2f}\")\n",
    "    print(f\"Precision: {precision:.2f}\")\n",
    "    print(f\"Recall: {recall:.2f}\")\n",
    "    print(\"\\n\")\n",
    "\n",
    "    # Predict on the validation data\n",
    "    y_pred_valid_label4 = model.predict(pca_valid_features_label4)\n",
    "\n",
    "    # Calculate metrics for classification evaluation on validation data\n",
    "    accuracy = accuracy_score(valid_label4, y_pred_valid_label4)\n",
    "    precision = precision_score(valid_label4, y_pred_valid_label4, average='macro', zero_division=1)\n",
    "    recall = recall_score(valid_label4, y_pred_valid_label4, average='macro')\n",
    "\n",
    "    print(f\"Metrics for {model_name} on validation data:\")\n",
    "    print(f\"Accuracy: {accuracy:.2f}\")\n",
    "    print(f\"Precision: {precision:.2f}\")\n",
    "    print(f\"Recall: {recall:.2f}\")\n",
    "    print(\"\\n\")\n",
    "\n",
    "    # Predict on the test data\n",
    "    y_pred_test_label4 = model.predict(pca_test_features_label4)"
   ]
  },
  {
   "cell_type": "code",
   "execution_count": null,
   "metadata": {},
   "outputs": [],
   "source": [
    "# define method to create the dataframe and save it as a csv file\n",
    "def create_csv(ID, pred_label1, pred_label2, pred_label3, pred_label4, destination):\n",
    "  df = pd.DataFrame()\n",
    "\n",
    "  df.insert(loc=0, column='ID', value=ID)\n",
    "  df.insert(loc=1, column='label_1', value=pred_label1)\n",
    "  df.insert(loc=2, column='label_2', value=pred_label2)\n",
    "  df.insert(loc=3, column='label_3', value=pred_label3)\n",
    "  df.insert(loc=4, column='label_4', value=pred_label4)\n",
    "\n",
    "  df.to_csv(destination, index=False)"
   ]
  },
  {
   "cell_type": "code",
   "execution_count": null,
   "metadata": {},
   "outputs": [],
   "source": [
    "destination = 'D:\\\\ACADEMIC\\\\SEMESTER 07\\\\ML - 3\\\\project\\\\Layer07\\\\Results\\\\190429G.csv'\n",
    "\n",
    "# create the csv output file\n",
    "create_csv(ID, y_pred_test_label1, y_pred_test_label2, y_pred_test_label3, y_pred_test_label4, destination)"
   ]
  }
 ],
 "metadata": {
  "colab": {
   "provenance": []
  },
  "kernelspec": {
   "display_name": "Python 3 (ipykernel)",
   "language": "python",
   "name": "python3"
  },
  "language_info": {
   "codemirror_mode": {
    "name": "ipython",
    "version": 3
   },
   "file_extension": ".py",
   "mimetype": "text/x-python",
   "name": "python",
   "nbconvert_exporter": "python",
   "pygments_lexer": "ipython3",
   "version": "3.10.12"
  }
 },
 "nbformat": 4,
 "nbformat_minor": 1
}
