{
 "cells": [
  {
   "cell_type": "code",
   "execution_count": 1,
   "metadata": {},
   "outputs": [],
   "source": [
    "import pandas as pd\n",
    "import numpy as np\n",
    "from sklearn.preprocessing import StandardScaler\n",
    "from sklearn.model_selection import train_test_split\n",
    "from sklearn.metrics import accuracy_score\n",
    "from sklearn.neighbors import KNeighborsClassifier\n",
    "from sklearn.svm import SVC\n",
    "from sklearn.decomposition import PCA\n",
    "from sklearn.feature_selection import SelectKBest, f_classif, chi2\n",
    "from sklearn.model_selection import RandomizedSearchCV\n",
    "import joblib\n",
    "import os"
   ]
  },
  {
   "cell_type": "code",
   "execution_count": 2,
   "metadata": {},
   "outputs": [],
   "source": [
    "#functions to predict and check accuray\n",
    "def predictAndGetAccuracyScore(model, x_valid, y_valid):\n",
    "    y_pred = model.predict(x_valid)\n",
    "    accuracy = accuracy_score(y_valid, y_pred)\n",
    "    print(\"Accuracy: %.2f%%\" % (accuracy * 100.0))\n",
    "    return accuracy\n"
   ]
  },
  {
   "cell_type": "code",
   "execution_count": 3,
   "metadata": {},
   "outputs": [],
   "source": [
    "#functions to execute randomized search\n",
    "def getRandomizedSearch(model, param_grid, x_train, y_train):\n",
    "    random_search = RandomizedSearchCV(model, param_grid, cv=5, scoring='accuracy',\n",
    "                              n_iter=2, random_state=42, verbose=2, n_jobs=-1)\n",
    "    random_search.fit(x_train, y_train)\n",
    "    print(\"Best Hyperparameters:\", random_search.best_params_)\n",
    "    return random_search\n"
   ]
  },
  {
   "cell_type": "code",
   "execution_count": 4,
   "metadata": {},
   "outputs": [],
   "source": [
    "train_path = './../data/layer 7/layer_7_train.csv'\n",
    "valid_path = './../data/layer 7/layer_7_valid.csv'\n",
    "test_path = './../data/layer 7/layer_7_test.csv'\n",
    "\n",
    "\n",
    "train_data = pd.read_csv(train_path)\n",
    "valid_data = pd.read_csv(valid_path)\n",
    "test_data = pd.read_csv(test_path)\n"
   ]
  },
  {
   "cell_type": "code",
   "execution_count": 5,
   "metadata": {},
   "outputs": [],
   "source": [
    "X_train = train_data.drop(columns=[\"label_1\", \"label_2\", \"label_3\", \"label_4\"])\n",
    "y_test_train = train_data[\"label_1\"]\n",
    "\n",
    "X_valid = valid_data.drop(columns=[\"label_1\", \"label_2\", \"label_3\", \"label_4\"])\n",
    "Y_valid = valid_data[\"label_1\"]\n",
    "\n",
    "X_test = valid_data.drop(columns=[\"label_1\", \"label_2\", \"label_3\", \"label_4\"])\n",
    "Y_test = valid_data[\"label_1\"]\n"
   ]
  },
  {
   "cell_type": "code",
   "execution_count": 10,
   "metadata": {},
   "outputs": [],
   "source": [
    "#create separate dataframes for each label\n",
    "x_train = {}\n",
    "x_valid = {}\n",
    "y_train = {}\n",
    "y_valid = {}\n",
    "x_test = {}\n",
    "y_test = {}\n",
    "Labels = [\"label_1\", \"label_2\", \"label_3\", \"label_4\"]\n",
    "Features = np.array(train_data.drop(columns=[\"label_1\", \"label_2\", \"label_3\", \"label_4\"]).columns)\n",
    "\n",
    "for label in Labels:\n",
    "  tr_data = train_data[train_data[\"label_2\"].notna()] if label == \"label_2\" else train_data\n",
    "  vl_data = valid_data[valid_data[\"label_2\"].notna()] if label == \"label_2\" else valid_data\n",
    "\n",
    "  #standardize data\n",
    "  scaler = StandardScaler()\n",
    "\n",
    "  x_train[label] = pd.DataFrame(scaler.fit_transform(tr_data.drop(Labels, axis=1)), columns=Features)\n",
    "  joblib.dump(scaler, f'./../saved_components/layer7/{label}/scaler.pkl')\n",
    "  y_train[label] = tr_data[label]\n",
    "  x_valid[label] = pd.DataFrame(scaler.transform(vl_data.drop(Labels, axis=1)), columns=Features)\n",
    "  y_valid[label] = vl_data[label]\n",
    "  x_test[label] = pd.DataFrame(scaler.transform(test_data.drop(Labels, axis=1)), columns=Features)\n"
   ]
  },
  {
   "cell_type": "markdown",
   "metadata": {},
   "source": [
    "<h4>Label 1</h4>"
   ]
  },
  {
   "cell_type": "code",
   "execution_count": null,
   "metadata": {},
   "outputs": [],
   "source": [
    "###### Initial accuracy with svm_model\n",
    "svm_model_1 = SVC(kernel=\"linear\")\n",
    "svm_model_1.fit(x_train[\"label_1\"], y_train[\"label_1\"])\n",
    "accuracy_label_1 = predictAndGetAccuracyScore(svm_model_1, x_valid[\"label_1\"], y_valid[\"label_1\"])\n"
   ]
  },
  {
   "cell_type": "code",
   "execution_count": 11,
   "metadata": {},
   "outputs": [
    {
     "name": "stdout",
     "output_type": "stream",
     "text": [
      "(28520, 578)\n"
     ]
    },
    {
     "data": {
      "text/plain": [
       "['./../saved_components/layer7/label_1/pca.pkl']"
      ]
     },
     "execution_count": 11,
     "metadata": {},
     "output_type": "execute_result"
    }
   ],
   "source": [
    "#Apply PCA -Feature Extraction\n",
    "pca_label_1 = PCA(n_components=0.99, svd_solver=\"full\")\n",
    "pca_label_1.fit(x_train[\"label_1\"])\n",
    "x_train_label_1_PCA = pd.DataFrame(pca_label_1.transform(x_train[\"label_1\"]))\n",
    "print(x_train_label_1_PCA.shape)\n",
    "x_valid_label_1_PCA = pd.DataFrame(pca_label_1.transform(x_valid[\"label_1\"]))\n",
    "\n",
    "joblib.dump(pca_label_1, './../saved_components/layer7/label_1/pca.pkl')"
   ]
  },
  {
   "cell_type": "code",
   "execution_count": null,
   "metadata": {},
   "outputs": [],
   "source": [
    "svm_model_1.fit(x_train_label_1_PCA, y_train[\"label_1\"])\n",
    "acc_pca = predictAndGetAccuracyScore(svm_model_1, x_valid_label_1_PCA, y_valid[\"label_1\"])"
   ]
  },
  {
   "cell_type": "code",
   "execution_count": null,
   "metadata": {},
   "outputs": [],
   "source": [
    "#Hyper parameter tuning\n",
    "#Randomized search\n",
    "param_dist = {\n",
    "    'C': [100, 10, 1],  # Continuous uniform distribution for 'C'\n",
    "    'kernel': ['rbf', 'linear'],  # Categorical distribution for 'kernel'\n",
    "    'gamma': [0.001, 0.01, 0.1],\n",
    "    # Add more hyperparameters and their distributions as needed\n",
    "}\n",
    "\n",
    "# Create a RandomizedSearchCV object\n",
    "random_search_label_1 = getRandomizedSearch(svm_model_1, param_dist, x_train_label_1_PCA, y_train[\"label_1\"])\n",
    "\n",
    "# Get the best hyperparameters and the corresponding model\n",
    "best_model_label_1 = random_search_label_1.best_estimator_\n"
   ]
  },
  {
   "cell_type": "code",
   "execution_count": null,
   "metadata": {},
   "outputs": [],
   "source": [
    "# Evaluate the best model on validation set\n",
    "acc_best_model_label_1 = best_model_label_1.score(x_valid_label_1_PCA, y_valid[\"label_1\"])\n",
    "\n",
    "print(\"Validation Accuracy with Best Model:\", acc_best_model_label_1)\n"
   ]
  },
  {
   "cell_type": "code",
   "execution_count": 12,
   "metadata": {},
   "outputs": [
    {
     "name": "stdout",
     "output_type": "stream",
     "text": [
      "Accuracy: 98.27%\n"
     ]
    }
   ],
   "source": [
    "#Check accuracy with tuned model on validation set\n",
    "svm_model_1_tuned = SVC(kernel=\"rbf\", C=100, gamma=0.001)\n",
    "svm_model_1_tuned.fit(x_train_label_1_PCA, y_train[\"label_1\"])\n",
    "accuracy_label_1 = predictAndGetAccuracyScore(svm_model_1_tuned, x_valid_label_1_PCA, y_valid[\"label_1\"])\n"
   ]
  },
  {
   "cell_type": "code",
   "execution_count": 13,
   "metadata": {},
   "outputs": [
    {
     "data": {
      "text/plain": [
       "['./../saved_components/layer7/label_1/model.pkl']"
      ]
     },
     "execution_count": 13,
     "metadata": {},
     "output_type": "execute_result"
    }
   ],
   "source": [
    "#Predict on test set with tuned model and PCA\n",
    "y_pred_label_1 = svm_model_1_tuned.predict(pca_label_1.transform(x_test[\"label_1\"]))\n",
    "joblib.dump(svm_model_1_tuned, './../saved_components/layer7/label_1/model.pkl')"
   ]
  },
  {
   "cell_type": "code",
   "execution_count": null,
   "metadata": {},
   "outputs": [],
   "source": [
    "result_df = pd.DataFrame({'ID': test_data['ID'], 'label_1': y_pred_label_1})\n"
   ]
  },
  {
   "cell_type": "markdown",
   "metadata": {},
   "source": [
    "<h4>Label 2</h4>"
   ]
  },
  {
   "cell_type": "code",
   "execution_count": null,
   "metadata": {},
   "outputs": [],
   "source": [
    "###### Initial accuracy with svm_model\n",
    "\n",
    "svm_model_2 = SVC()\n",
    "svm_model_2.fit(x_train[\"label_2\"], y_train[\"label_2\"])\n",
    "acc = predictAndGetAccuracyScore(\n",
    "    svm_model_2, x_valid[\"label_2\"], y_valid[\"label_2\"])\n"
   ]
  },
  {
   "cell_type": "code",
   "execution_count": 14,
   "metadata": {},
   "outputs": [
    {
     "name": "stdout",
     "output_type": "stream",
     "text": [
      "(28040, 480)\n"
     ]
    }
   ],
   "source": [
    "#Apply PCA - Feature Extraction\n",
    "pca_label_2 = PCA(n_components=0.98, svd_solver=\"full\")\n",
    "pca_label_2.fit(x_train[\"label_2\"])\n",
    "x_train_label2_PCA = pd.DataFrame(pca_label_2.transform(x_train[\"label_2\"]))\n",
    "print(x_train_label2_PCA.shape)\n",
    "x_valid_label2_PCA = pd.DataFrame(pca_label_2.transform(x_valid[\"label_2\"]))\n"
   ]
  },
  {
   "cell_type": "code",
   "execution_count": null,
   "metadata": {},
   "outputs": [],
   "source": [
    "svm_model_2.fit(x_train_label2_PCA, y_train[\"label_2\"])\n",
    "acc = predictAndGetAccuracyScore(svm_model_2, x_valid_label2_PCA, y_valid[\"label_2\"])\n"
   ]
  },
  {
   "cell_type": "code",
   "execution_count": null,
   "metadata": {},
   "outputs": [],
   "source": [
    "#Hyper parameter tuning\n",
    "#Randomized search\n",
    "param_dist = {\n",
    "    # Continuous uniform distribution for 'C'\n",
    "    'C': [100, 10, 1, 0.1],\n",
    "    'kernel': ['rbf'],  # Categorical distribution for 'kernel'\n",
    "    'gamma': [0.001, 0.01, 0.1, 1, ],\n",
    "    # Add more hyperparameters and their distributions as needed\n",
    "}\n",
    "random_search = getRandomizedSearch(\n",
    "    svm_model_2, param_dist, x_train_label2_PCA, y_train[\"label_2\"])\n",
    "best_model_label_2 = random_search.best_estimator_\n"
   ]
  },
  {
   "cell_type": "code",
   "execution_count": 15,
   "metadata": {},
   "outputs": [
    {
     "name": "stdout",
     "output_type": "stream",
     "text": [
      "Accuracy: 95.24%\n"
     ]
    }
   ],
   "source": [
    "##Check accuracy with tuned model on validation set without PCA\n",
    "svm_model_2_tuned = SVC(kernel='rbf', C=100, gamma=0.001)\n",
    "svm_model_2_tuned.fit(x_train[\"label_2\"], y_train[\"label_2\"])\n",
    "acc = predictAndGetAccuracyScore(svm_model_2_tuned, x_valid[\"label_2\"], y_valid[\"label_2\"])\n"
   ]
  },
  {
   "cell_type": "code",
   "execution_count": null,
   "metadata": {},
   "outputs": [],
   "source": [
    "##Check accuracy with best model on validation set with PCA\n",
    "acc_best_model_label_2 = predictAndGetAccuracyScore(best_model_label_2, x_valid_label2_PCA, y_valid[\"label_2\"])"
   ]
  },
  {
   "cell_type": "code",
   "execution_count": 16,
   "metadata": {},
   "outputs": [
    {
     "data": {
      "text/plain": [
       "['./../saved_components/layer7/label_2/model.pkl']"
      ]
     },
     "execution_count": 16,
     "metadata": {},
     "output_type": "execute_result"
    }
   ],
   "source": [
    "#Predict on test set with tuned model without PCA\n",
    "y_pred_label_2 = svm_model_2_tuned.predict(x_test[\"label_2\"])\n",
    "joblib.dump(svm_model_2_tuned, './../saved_components/layer7/label_2/model.pkl')"
   ]
  },
  {
   "cell_type": "code",
   "execution_count": null,
   "metadata": {},
   "outputs": [],
   "source": [
    "result_df['label_2'] = y_pred_label_2\n"
   ]
  },
  {
   "cell_type": "markdown",
   "metadata": {},
   "source": [
    "<h4>Label 3</h4>"
   ]
  },
  {
   "cell_type": "code",
   "execution_count": null,
   "metadata": {},
   "outputs": [],
   "source": [
    "###### Initial accuracy with svm_model\n",
    "svm_model_3 = SVC(kernel=\"linear\")\n",
    "svm_model_3.fit(x_train[\"label_3\"], y_train[\"label_3\"])\n",
    "acc = predictAndGetAccuracyScore(\n",
    "    svm_model_3, x_valid[\"label_3\"], y_valid[\"label_3\"])"
   ]
  },
  {
   "cell_type": "code",
   "execution_count": 17,
   "metadata": {},
   "outputs": [
    {
     "name": "stdout",
     "output_type": "stream",
     "text": [
      "(28520, 234)\n"
     ]
    }
   ],
   "source": [
    "#Apply PCA - Feature Extraction\n",
    "pca_label_3 = PCA(n_components=0.92, svd_solver=\"full\")\n",
    "pca_label_3.fit(x_train[\"label_3\"])\n",
    "x_train_label_3_PCA = pd.DataFrame(pca_label_3.transform(x_train[\"label_3\"]))\n",
    "print(x_train_label_3_PCA.shape)\n",
    "x_valid_label_3_PCA = pd.DataFrame(pca_label_3.transform(x_valid[\"label_3\"]))\n"
   ]
  },
  {
   "cell_type": "code",
   "execution_count": null,
   "metadata": {},
   "outputs": [],
   "source": [
    "svm_model_3.fit(x_train_label_3_PCA, y_train[\"label_3\"])\n",
    "acc = predictAndGetAccuracyScore(svm_model_3, x_valid_label_3_PCA, y_valid[\"label_3\"])"
   ]
  },
  {
   "cell_type": "code",
   "execution_count": null,
   "metadata": {},
   "outputs": [],
   "source": [
    "#Hyper parameter tuning\n",
    "#Randomized search\n",
    "\n",
    "label_3_param_dist = {\n",
    "    # Continuous uniform distribution for 'C'\n",
    "    'C': [100, 10, 1, 0.1],\n",
    "    'kernel': ['rbf'],  # Categorical distribution for 'kernel'\n",
    "    'gamma': [0.001, 0.01, 0.1, 1],\n",
    "    # Add more hyperparameters and their distributions as needed\n",
    "}\n"
   ]
  },
  {
   "cell_type": "code",
   "execution_count": null,
   "metadata": {},
   "outputs": [],
   "source": [
    "random_search_label_3 = getRandomizedSearch(svm_model_3, label_3_param_dist, x_train_label_3_PCA, y_train[\"label_3\"])"
   ]
  },
  {
   "cell_type": "code",
   "execution_count": null,
   "metadata": {},
   "outputs": [],
   "source": [
    "best_model_label_3 = random_search_label_3.best_estimator_\n",
    "acc_best_model_label_3 = predictAndGetAccuracyScore(best_model_label_3, x_valid_label_3_PCA, y_valid[\"label_3\"])"
   ]
  },
  {
   "cell_type": "code",
   "execution_count": 18,
   "metadata": {},
   "outputs": [
    {
     "name": "stdout",
     "output_type": "stream",
     "text": [
      "Accuracy: 99.73%\n"
     ]
    }
   ],
   "source": [
    "##Check accuracy with tuned model on validation set without PCA\n",
    "svm_model_3_tuned = SVC(kernel='rbf', C=1000, gamma=0.001)\n",
    "svm_model_3_tuned.fit(x_train[\"label_3\"], y_train[\"label_3\"])\n",
    "acc = predictAndGetAccuracyScore(svm_model_3_tuned, x_valid[\"label_3\"], y_valid[\"label_3\"])"
   ]
  },
  {
   "cell_type": "code",
   "execution_count": 19,
   "metadata": {},
   "outputs": [
    {
     "data": {
      "text/plain": [
       "['./../saved_components/layer7/label_3/model.pkl']"
      ]
     },
     "execution_count": 19,
     "metadata": {},
     "output_type": "execute_result"
    }
   ],
   "source": [
    "#Predict on test set with tuned model without PCA\n",
    "y_pred_label_3 = svm_model_3_tuned.predict(x_test[\"label_3\"])\n",
    "joblib.dump(svm_model_3_tuned, './../saved_components/layer7/label_3/model.pkl')"
   ]
  },
  {
   "cell_type": "code",
   "execution_count": null,
   "metadata": {},
   "outputs": [],
   "source": [
    "result_df['label_3'] = y_pred_label_3"
   ]
  },
  {
   "cell_type": "markdown",
   "metadata": {},
   "source": [
    "<h4>Label 4</h4>"
   ]
  },
  {
   "cell_type": "code",
   "execution_count": null,
   "metadata": {},
   "outputs": [],
   "source": [
    "###### Initial accuracy with svm_model\n",
    "svm_model_4 = SVC()\n",
    "svm_model_4.fit(x_train[\"label_4\"], y_train[\"label_4\"])\n",
    "acc = predictAndGetAccuracyScore(svm_model_4, x_valid[\"label_4\"], y_valid[\"label_4\"])"
   ]
  },
  {
   "cell_type": "code",
   "execution_count": 20,
   "metadata": {},
   "outputs": [
    {
     "name": "stdout",
     "output_type": "stream",
     "text": [
      "(28520, 413)\n"
     ]
    },
    {
     "data": {
      "text/plain": [
       "['./../saved_components/layer7/label_4/pca.pkl']"
      ]
     },
     "execution_count": 20,
     "metadata": {},
     "output_type": "execute_result"
    }
   ],
   "source": [
    "#Apply PCA - Feature Extraction\n",
    "pca_label_4 = PCA(n_components=0.97, svd_solver=\"full\")\n",
    "pca_label_4.fit(x_train[\"label_4\"])\n",
    "x_train_label_4_PCA = pd.DataFrame(pca_label_4.transform(x_train[\"label_4\"]))\n",
    "print(x_train_label_4_PCA.shape)\n",
    "x_valid_label_4_PCA = pd.DataFrame(pca_label_4.transform(x_valid[\"label_4\"]))\n",
    "\n",
    "joblib.dump(pca_label_4, './../saved_components/layer7/label_4/pca.pkl')"
   ]
  },
  {
   "cell_type": "code",
   "execution_count": null,
   "metadata": {},
   "outputs": [],
   "source": [
    "svm_model_4.fit(x_train_label_4_PCA, y_train[\"label_4\"])\n",
    "acc = predictAndGetAccuracyScore(svm_model_4, x_valid_label_4_PCA, y_valid[\"label_4\"])\n"
   ]
  },
  {
   "cell_type": "code",
   "execution_count": null,
   "metadata": {},
   "outputs": [],
   "source": [
    "#Hyper parameter tuning\n",
    "#Randomized search\n",
    "label_4_param_dist = {\n",
    "    # Continuous uniform distribution for 'C'\n",
    "    'C': [100, 10, 1, 0.1],\n",
    "    'kernel': ['rbf'],  # Categorical distribution for 'kernel'\n",
    "    'gamma': [0.001, 0.01, 0.1, 1],\n",
    "    # Add more hyperparameters and their distributions as needed\n",
    "}\n"
   ]
  },
  {
   "cell_type": "code",
   "execution_count": null,
   "metadata": {},
   "outputs": [],
   "source": [
    "random_search_label_4 = getRandomizedSearch(svm_model_4, label_4_param_dist, x_train_label_4_PCA, y_train[\"label_4\"])"
   ]
  },
  {
   "cell_type": "code",
   "execution_count": null,
   "metadata": {},
   "outputs": [],
   "source": [
    "##Check accuracy with best model on validation set with PCA\n",
    "\n",
    "best_model_label_4 = random_search_label_4.best_estimator_\n",
    "\n",
    "acc_best_model_label_4 = predictAndGetAccuracyScore(best_model_label_4, x_valid_label_4_PCA, y_valid[\"label_4\"])"
   ]
  },
  {
   "cell_type": "code",
   "execution_count": 21,
   "metadata": {},
   "outputs": [
    {
     "name": "stdout",
     "output_type": "stream",
     "text": [
      "Accuracy: 97.07%\n"
     ]
    }
   ],
   "source": [
    "##Check accuracy with tuned model on validation set with PCA\n",
    "svm_model_4_tuned = SVC(kernel='rbf', C=100, gamma=0.001)\n",
    "svm_model_4_tuned.fit(x_train_label_4_PCA, y_train[\"label_4\"])\n",
    "acc = predictAndGetAccuracyScore(svm_model_4_tuned, x_valid_label_4_PCA, y_valid[\"label_4\"])\n"
   ]
  },
  {
   "cell_type": "code",
   "execution_count": 22,
   "metadata": {},
   "outputs": [
    {
     "data": {
      "text/plain": [
       "['./../saved_components/layer7/label_4/model.pkl']"
      ]
     },
     "execution_count": 22,
     "metadata": {},
     "output_type": "execute_result"
    }
   ],
   "source": [
    "#Predict on test set with tuned model with PCA\n",
    "y_pred_label_4 = svm_model_4_tuned.predict(pca_label_4.transform(x_test[\"label_4\"]))\n",
    "joblib.dump(svm_model_4_tuned, './../saved_components/layer7/label_4/model.pkl')"
   ]
  },
  {
   "cell_type": "code",
   "execution_count": null,
   "metadata": {},
   "outputs": [],
   "source": [
    "result_df['label_4'] = y_pred_label_4"
   ]
  },
  {
   "cell_type": "code",
   "execution_count": null,
   "metadata": {},
   "outputs": [],
   "source": [
    "result_df.to_csv(\"solutions.csv\", index=False)"
   ]
  }
 ],
 "metadata": {
  "kernelspec": {
   "display_name": "base",
   "language": "python",
   "name": "python3"
  },
  "language_info": {
   "codemirror_mode": {
    "name": "ipython",
    "version": 3
   },
   "file_extension": ".py",
   "mimetype": "text/x-python",
   "name": "python",
   "nbconvert_exporter": "python",
   "pygments_lexer": "ipython3",
   "version": "3.10.12"
  },
  "orig_nbformat": 4
 },
 "nbformat": 4,
 "nbformat_minor": 2
}
